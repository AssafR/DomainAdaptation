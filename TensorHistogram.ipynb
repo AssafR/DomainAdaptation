{
 "cells": [
  {
   "cell_type": "code",
   "execution_count": null,
   "metadata": {},
   "outputs": [],
   "source": [
    "import torch\n",
    "import pandas as pd\n",
    "from typing import List\n",
    "import matplotlib.pyplot as plt"
   ]
  },
  {
   "cell_type": "code",
   "execution_count": null,
   "metadata": {},
   "outputs": [],
   "source": [
    "t1 = torch.tensor([1, 0, 0, 0, 1, 0, 0, 1, 0, 1, 0, 1, 0, 0, 0, 1]).double()\n",
    "t2 = torch.tensor([1, 0, 0, 1, 0, 0, 0, 1, 0, 0, 0, 0, 1, 0, 0, 1]).double()\n",
    "t3 = torch.rand(len(t1)).double() - 0.5\n",
    "\n",
    "sig = torch.sigmoid(t3).double()\n",
    "p = (sig>0.5).double()\n",
    "print(p)"
   ]
  },
  {
   "cell_type": "code",
   "execution_count": null,
   "metadata": {},
   "outputs": [],
   "source": [
    "def display_tensors_together(t1,t2,t3):\n",
    "    t1_df = pd.Series(t1,name='t1').astype('int')\n",
    "#     t2_df = pd.DataFrame(t2,columns=['t2']).astype('float')\n",
    "    t2_df = pd.Series(t2,name='t2').astype('double')\n",
    "    display(t1_df)\n",
    "    display(t2_df)\n",
    "    t3_df = pd.concat([t1_df,t2_df],axis=1)\n",
    "    display(t3_df)\n",
    "    all = torch.cat([t1,t2,t3],dim=0).reshape(3,len(t1)).T\n",
    "    all_df = pd.DataFrame(all).astype(\"float\")\n",
    "    return all_df\n",
    "\n",
    "#all = torch.cat([t1.double(),t2.double(),t3.double()],dim=0)\n",
    "\n",
    "def tensors_to_dataframe(tensors:List):\n",
    "    list_of_series_from_tensors = []\n",
    "    for tensor,column_name,tensor_type in tensors:\n",
    "        series = pd.Series(tensor,name=column_name).astype(tensor_type)\n",
    "        list_of_series_from_tensors.append(series)\n",
    "    full_df = pd.concat(list_of_series_from_tensors,axis=1)\n",
    "    return full_df\n",
    "\n",
    "\n",
    "display_df = tensors_to_dataframe([[t1,'Target','int'],[t2,'Pred','int'],[t3,'Output','float']])\n",
    "display(display_df)\n"
   ]
  },
  {
   "cell_type": "code",
   "execution_count": null,
   "metadata": {},
   "outputs": [],
   "source": [
    "def tensors_to_dataframe(tensors:List):\n",
    "    # Each element in list is a triplet: tensor,column_name,tensor_type\n",
    "    list_of_series_from_tensors = []\n",
    "    for tensor,column_name,tensor_type in tensors:\n",
    "        series = pd.Series(tensor.detach().cpu().numpy(),name=column_name).astype(tensor_type)\n",
    "        list_of_series_from_tensors.append(series)\n",
    "    full_df = pd.concat(list_of_series_from_tensors,axis=1)\n",
    "    return full_df\n",
    "\n",
    "def convert_target_and_prediction_to_list_of_values_dict(df,output_column_name):\n",
    "    compared_results_columns = ['Label','Prediction']\n",
    "#     print(\"df=\")\n",
    "#     print(df)\n",
    "    compared_results_values = df[compared_results_columns].drop_duplicates()\n",
    "#     print(\"compared_results_values=\",compared_results_values)\n",
    "    grouped = df.groupby(compared_results_columns)\n",
    "    values_by_index_as_list = grouped.agg({output_column_name:lambda x:list(x)})\n",
    "#     print(\"values_by_index_as_list=\",values_by_index_as_list)\n",
    "    results_index = values_by_index_as_list.index.values\n",
    "#     print(\"results_index=\",results_index)\n",
    "    new_results_index = [f't:{t}_p:{p}' for t,p in results_index]\n",
    "    values_by_index_as_list.index = new_results_index\n",
    "    return values_by_index_as_list[output_column_name].to_dict()\n",
    "\n",
    "    \n",
    "def update_sigmoid_value_dct(current,update):\n",
    "    for update_key, update_list in update.items():\n",
    "        if current.get(update_key,[]) is None:\n",
    "            print(\"Got none, update_key=\",update_key,\" current=\", current)\n",
    "        current[update_key] =  current.get(update_key,[]) + update_list\n",
    "    return current\n"
   ]
  },
  {
   "cell_type": "code",
   "execution_count": null,
   "metadata": {},
   "outputs": [],
   "source": [
    "sigmoid_values_by_result_per_epoch = []\n",
    "\n",
    "for epoch in range(0,10):\n",
    "    sigmoid_values_by_result_dct = {}\n",
    "    for batch in range(0,3):\n",
    "        outputs = 10*(torch.rand(len(t1)).double() - 0.5)\n",
    "        sigmoid_outputs = torch.sigmoid(outputs).double()\n",
    "#         print(sorted(sigmoid_outputs.tolist()))\n",
    "        preds = (sig>0.5).double()\n",
    "        sample_results = tensors_to_dataframe([\n",
    "                    [t1,'Label','int'],[t2,'Output','float'],\n",
    "                    [sigmoid_outputs,'Sigmoid','float'],[preds,'Prediction','int']])\n",
    "        values_by_index_as_lists_dct = convert_target_and_prediction_to_list_of_values_dict(sample_results,'Sigmoid')\n",
    "        sigmoid_values_by_result_dct = update_sigmoid_value_dct(sigmoid_values_by_result_dct,values_by_index_as_lists_dct)\n",
    "#         print(\"sigmoid_values_by_result_dct=\",sigmoid_values_by_result_dct)\n",
    "        print(f'Epoch: {epoch}, batch: {batch}')\n",
    "        for k,v in sigmoid_values_by_result_dct.items():\n",
    "            print(f'key={k}, length={len(v)}')\n",
    "    #Back to epoch\n",
    "    for i,key in enumerate(sigmoid_values_by_result_dct.keys()):\n",
    "        plt.subplot(epoch,i,i)\n",
    "        plt.hist(sigmoid_values_by_result_dct[key])\n",
    "        plt.show()\n",
    "        \n",
    "        \n",
    "        "
   ]
  },
  {
   "cell_type": "code",
   "execution_count": null,
   "metadata": {},
   "outputs": [],
   "source": [
    "g = display_df.groupby(by=['Target','Pred'])\n",
    "g_list = g.agg({'Output':lambda x:list(x)})\n",
    "\n",
    "# a = g.loc[(0,0),'Output']\n",
    "# plt.hist(values, num_bins)\n",
    "\n",
    "for name, group in g:\n",
    "    group.plot()"
   ]
  },
  {
   "cell_type": "code",
   "execution_count": null,
   "metadata": {},
   "outputs": [],
   "source": []
  },
  {
   "cell_type": "code",
   "execution_count": null,
   "metadata": {},
   "outputs": [],
   "source": []
  }
 ],
 "metadata": {
  "hide_input": false,
  "kernelspec": {
   "display_name": "Python 3",
   "language": "python",
   "name": "python3"
  },
  "language_info": {
   "codemirror_mode": {
    "name": "ipython",
    "version": 3
   },
   "file_extension": ".py",
   "mimetype": "text/x-python",
   "name": "python",
   "nbconvert_exporter": "python",
   "pygments_lexer": "ipython3",
   "version": "3.7.7"
  }
 },
 "nbformat": 4,
 "nbformat_minor": 4
}
