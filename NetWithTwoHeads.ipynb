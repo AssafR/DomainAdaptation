{
 "cells": [
  {
   "cell_type": "code",
   "execution_count": 1,
   "metadata": {},
   "outputs": [
    {
     "data": {
      "text/html": [
       "<style>.container { width:100% !important; }</style>"
      ],
      "text/plain": [
       "<IPython.core.display.HTML object>"
      ]
     },
     "metadata": {},
     "output_type": "display_data"
    }
   ],
   "source": [
    "from IPython.core.display import display, HTML\n",
    "display(HTML(\"<style>.container { width:100% !important; }</style>\"))"
   ]
  },
  {
   "cell_type": "code",
   "execution_count": 2,
   "metadata": {
    "colab": {
     "base_uri": "https://localhost:8080/",
     "height": 51
    },
    "colab_type": "code",
    "id": "npGiuvftxf1z",
    "outputId": "48a8cb76-f300-4db3-f216-eba77d4cce90"
   },
   "outputs": [
    {
     "name": "stdout",
     "output_type": "stream",
     "text": [
      "1.5.0\n"
     ]
    },
    {
     "data": {
      "text/plain": [
       "True"
      ]
     },
     "execution_count": 2,
     "metadata": {},
     "output_type": "execute_result"
    }
   ],
   "source": [
    "from DataLoaders import DataLoaders\n",
    "import numpy as np\n",
    "import torchvision\n",
    "\n",
    "import matplotlib.pyplot as plt\n",
    "import time\n",
    "from pathlib import Path\n",
    "from tqdm.notebook import trange, tqdm\n",
    "from torch.utils.tensorboard import SummaryWriter\n",
    "import torch\n",
    "import torch.nn as nn\n",
    "import torch.optim as optim\n",
    "from torch.optim import lr_scheduler\n",
    "from torchvision import datasets, models, transforms\n",
    "import itertools\n",
    "# import pixiedust\n",
    "import random\n",
    "from torch.utils import data\n",
    "from itertools import tee\n",
    "from datetime import datetime\n",
    "from utils import GradientReversal\n",
    "from enum import Enum\n",
    "\n",
    "print(torch.__version__)\n",
    "torch.cuda.is_available()"
   ]
  },
  {
   "cell_type": "code",
   "execution_count": 3,
   "metadata": {
    "colab": {
     "base_uri": "https://localhost:8080/",
     "height": 122
    },
    "colab_type": "code",
    "id": "MHoa2aySwBF_",
    "outputId": "31d7f712-1312-4029-8773-9d4b77d44312"
   },
   "outputs": [],
   "source": [
    "try:\n",
    "    from google.colab import drive\n",
    "    drive.mount('/content/gdrive')\n",
    "    LABS_DIR = Path ('/content/gdrive/My Drive/Labs')\n",
    "except:\n",
    "    LABS_DIR = Path ('C:/Labs/')\n",
    "\n",
    "#DATA_DIR = LABS_DIR/'Data'    \n",
    "DATA_DIR = LABS_DIR/'DataNoDuplicates'\n",
    "DATA_DIR_M = LABS_DIR/'DataTraining'/'Male'\n",
    "DATA_DIR_F = LABS_DIR/'DataTraining'/'Female'\n"
   ]
  },
  {
   "cell_type": "code",
   "execution_count": 4,
   "metadata": {},
   "outputs": [],
   "source": [
    "class TrainingParams:\n",
    "    def __init__(self, experiment_name, model,  lr_initial, weight_decay,step_size,gamma,num_epochs):\n",
    "        self.experiment_name = experiment_name\n",
    "        self.model = model\n",
    "        self.label_criterion = nn.CrossEntropyLoss()  # softmax+log\n",
    "        self.domain_criterion = nn.functional.binary_cross_entropy_with_logits # TODO check this loss criterion\n",
    "        self.optimizer = optim.Adam(self.model.parameters(), lr=lr_initial, weight_decay=weight_decay)\n",
    "        self.scheduler= lr_scheduler.StepLR(self.optimizer, step_size=step_size, gamma=gamma)\n",
    "        self.num_epochs = num_epochs"
   ]
  },
  {
   "cell_type": "code",
   "execution_count": 5,
   "metadata": {
    "scrolled": false
   },
   "outputs": [],
   "source": [
    "#### sanity check for the images \n",
    "# classes = ['Angry', 'Disgust', 'Fear', 'Happy', 'Neutral', 'Sad', 'Surprise']\n",
    "# for emotion in classes:\n",
    "#     print(\"Class =\",emotion)\n",
    "#     !ls $DATA_DIR\\VAL\\$emotion | wc -l"
   ]
  },
  {
   "cell_type": "markdown",
   "metadata": {},
   "source": [
    "# Data Loader"
   ]
  },
  {
   "cell_type": "code",
   "execution_count": 6,
   "metadata": {
    "colab": {
     "base_uri": "https://localhost:8080/",
     "height": 68
    },
    "colab_type": "code",
    "id": "hmElu6Slwjgf",
    "outputId": "6b438b4a-4913-46c6-9bc5-6884fcfa2d2f"
   },
   "outputs": [
    {
     "name": "stdout",
     "output_type": "stream",
     "text": [
      "Classes:  ['Angry', 'Disgust', 'Fear', 'Happy', 'Neutral', 'Sad', 'Surprise']\n",
      "Male Train image size: 1181\n",
      "Male Validation image size: 299\n",
      "Female Train image size: 1291\n",
      "Female Validation image size: 326\n"
     ]
    }
   ],
   "source": [
    "BATCH_SIZE = 16\n",
    "# SAMPLE_SIZE = None \n",
    "SAMPLE_SIZE = None\n",
    "\n",
    "dataloder_male = DataLoaders(sample_size=SAMPLE_SIZE, batch_size=BATCH_SIZE//2, data_dir=DATA_DIR_M, val_same_as_train=False)\n",
    "dataloder_female = DataLoaders(sample_size=SAMPLE_SIZE, batch_size=BATCH_SIZE//2, data_dir=DATA_DIR_F, val_same_as_train=False)\n",
    "\n",
    "device = torch.device(\"cuda:0\" if torch.cuda.is_available() else \"cpu\")\n",
    "print(\"Classes: \", dataloder_male.classes) \n",
    "print(f'Male Train image size: {dataloder_male.dataset_size[\"train\"]}')\n",
    "print(f'Male Validation image size: {dataloder_male.dataset_size[\"val\"]}')\n",
    "print(f'Female Train image size: {dataloder_female.dataset_size[\"train\"]}')\n",
    "print(f'Female Validation image size: {dataloder_female.dataset_size[\"val\"]}')"
   ]
  },
  {
   "cell_type": "code",
   "execution_count": 7,
   "metadata": {},
   "outputs": [],
   "source": [
    "class NET_ARCHICECTURE(Enum):\n",
    "    NO_FC = 0\n",
    "    ONE_FC = 1\n",
    "    TWO_FC = 2"
   ]
  },
  {
   "cell_type": "code",
   "execution_count": 8,
   "metadata": {
    "colab": {},
    "colab_type": "code",
    "id": "0UgElP8XDrYm"
   },
   "outputs": [],
   "source": [
    "def get_model(class_names, architecure : NET_ARCHICECTURE):\n",
    "    model_conv = models.resnet18(pretrained=True)\n",
    "    #model_conv = models.resnet50(pretrained=True)\n",
    "    #model_conv = models.resnet101(pretrained=True)    \n",
    "    \n",
    "    DROPOUT_PROB = 0.5\n",
    "    \n",
    "    num_ftrs = model_conv.fc.in_features #The size of feature extractor output\n",
    "\n",
    "    if architecure == NET_ARCHICECTURE.NO_FC:\n",
    "        new_lin = nn.Linear(num_ftrs, len(class_names))\n",
    "    elif architecure == NET_ARCHICECTURE.ONE_FC:\n",
    "        new_lin = nn.Sequential(\n",
    "            nn.Linear(num_ftrs, 64),\n",
    "            nn.ReLU(),\n",
    "            nn.Dropout(DROPOUT_PROB),\n",
    "            nn.Linear(64, len(class_names))\n",
    "        )\n",
    "    elif architecure == NET_ARCHICECTURE.TWO_FC:\n",
    "        new_lin = nn.Sequential(\n",
    "            nn.Linear(num_ftrs, 50),\n",
    "            nn.ReLU(),\n",
    "            nn.Dropout(DROPOUT_PROB),\n",
    "            nn.Linear(50, 20),\n",
    "            nn.ReLU(),\n",
    "            nn.Dropout(DROPOUT_PROB),\n",
    "            nn.Linear(20, len(class_names))\n",
    "        )\n",
    "    else:\n",
    "        raise Exception(f\"Value {architecure} illegal\")\n",
    "        \n",
    "    model_conv.fc = new_lin\n",
    "\n",
    "    model_conv.avgpool.activation = {}\n",
    "    def get_activation(name):\n",
    "        def hook(model, input, output):\n",
    "            model.activation[name] = output #.detach()\n",
    "        return hook\n",
    "\n",
    "    model_conv.avgpool.register_forward_hook(get_activation('avgpool'))\n",
    "    \n",
    "    model_conv.discriminator = nn.Sequential(\n",
    "        GradientReversal(),\n",
    "        nn.Linear(num_ftrs, 50),\n",
    "        nn.ReLU(),\n",
    "        nn.Linear(50, 20),\n",
    "        nn.ReLU(),\n",
    "        nn.Linear(20, 1)\n",
    "    ).to(device)\n",
    "    \n",
    "    model_conv = model_conv.to(device)\n",
    "    return model_conv"
   ]
  },
  {
   "cell_type": "code",
   "execution_count": 9,
   "metadata": {
    "colab": {
     "base_uri": "https://localhost:8080/",
     "height": 165
    },
    "colab_type": "code",
    "id": "aOMEb5deCofk",
    "outputId": "40524968-328f-420d-cfc1-1e3fe2632a01"
   },
   "outputs": [],
   "source": [
    "def imshow(inp, title=None):\n",
    "    \"\"\"Imshow for Tensor.\"\"\"\n",
    "    inp = inp.numpy().transpose((1, 2, 0))\n",
    "    mean = np.array([0.485, 0.456, 0.406])\n",
    "    std = np.array([0.229, 0.224, 0.225])\n",
    "    inp = std * inp + mean\n",
    "    inp = np.clip(inp, 0, 1)\n",
    "    plt.imshow(inp)\n",
    "    if title is not None:\n",
    "        plt.title(title)\n",
    "    plt.pause(0.001)  # pause a bit so that plots are updated  \n"
   ]
  },
  {
   "cell_type": "markdown",
   "metadata": {},
   "source": [
    "# Show sample of the data for review"
   ]
  },
  {
   "cell_type": "code",
   "execution_count": 10,
   "metadata": {
    "scrolled": true
   },
   "outputs": [
    {
     "name": "stdout",
     "output_type": "stream",
     "text": [
      "\n",
      "classes=tensor([0, 2, 5, 1, 0, 3, 0, 5])\n"
     ]
    },
    {
     "data": {
      "image/png": "[encoded data removed]",
      "text/plain": [
       "<Figure size 432x288 with 1 Axes>"
      ]
     },
     "metadata": {
      "needs_background": "light"
     },
     "output_type": "display_data"
    },
    {
     "name": "stdout",
     "output_type": "stream",
     "text": [
      "classes=tensor([0, 4, 1, 3, 2, 1, 0, 2])\n"
     ]
    },
    {
     "data": {
      "image/png": "[encoded data removed]",
      "text/plain": [
       "<Figure size 432x288 with 1 Axes>"
      ]
     },
     "metadata": {
      "needs_background": "light"
     },
     "output_type": "display_data"
    }
   ],
   "source": [
    "# # Get a batch of training data\n",
    "class_names = dataloder_female.classes\n",
    "\n",
    "inputs, classes = next(iter(dataloder_female.data['train']))\n",
    "print()\n",
    "# Make a grid from batch\n",
    "sample_train_images = torchvision.utils.make_grid(inputs)\n",
    "#imshow(sample_train_images, title=classes)\n",
    "print(f\"classes={classes}\")\n",
    "imshow(sample_train_images, title=[class_names[i] for i in classes])\n",
    "\n",
    "\n",
    "# # Get a batch of validation data\n",
    "inputs, classes = next(iter(dataloder_female.data['val']))\n",
    "# Make a grid from batch\n",
    "sample_train_images = torchvision.utils.make_grid(inputs)\n",
    "#imshow(sample_train_images, title=classes)\n",
    "print(f\"classes={classes}\")\n",
    "imshow(sample_train_images, title=[class_names[i] for i in classes])"
   ]
  },
  {
   "cell_type": "code",
   "execution_count": 11,
   "metadata": {},
   "outputs": [],
   "source": [
    "def binary_acc(y_pred, y_test):\n",
    "    y_pred_tag = torch.round(torch.sigmoid(y_pred))\n",
    "\n",
    "    correct_results_sum = (y_pred_tag == y_test).sum().float()\n",
    "    acc = correct_results_sum/y_test.shape[0]\n",
    "#     acc = torch.round(acc * 100)\n",
    "    \n",
    "    return acc"
   ]
  },
  {
   "cell_type": "code",
   "execution_count": 12,
   "metadata": {
    "code_folding": [
     25,
     27,
     79
    ],
    "colab": {},
    "colab_type": "code",
    "id": "sDNvKgitDNG7",
    "pixiedust": {
     "displayParams": {}
    }
   },
   "outputs": [],
   "source": [
    "def train_model(males_dataloader, females_dataloader, training_params, writer=None):\n",
    "    since = time.time()\n",
    "\n",
    "    print(\"Starting epochs\")\n",
    "    for epoch in range(1, training_params.num_epochs + 1):\n",
    "        print(f'Epoch: {epoch} of {training_params.num_epochs}')\n",
    "        training_params.model.train()  # Set model to training mode\n",
    "        running_corrects = 0.0\n",
    "        running_corrects_domain = 0.0\n",
    "        \n",
    "        join_dataloader = zip(males_dataloader.data['train'], females_dataloader.data['train'])  # TODO check how females_data is built\n",
    "        for i, ((males_x, males_label), (females_x, _)) in enumerate(join_dataloader):\n",
    "            # data['train'] contains (males_x, males_y) for every batch (so i=[1...NUM OF BATCHES]\n",
    "            samples = torch.cat([males_x, females_x])\n",
    "            samples = samples.to(device)\n",
    "            label_y = males_label.to(device)\n",
    "            domain_y = torch.cat([torch.ones(males_x.shape[0]), torch.zeros(females_x.shape[0])])\n",
    "            domain_y = domain_y.to(device)\n",
    "\n",
    "            # zero the parameter gradients\n",
    "            training_params.optimizer.zero_grad()\n",
    "\n",
    "            # forward\n",
    "            with torch.set_grad_enabled(True):\n",
    "#                 label_preds = training_params.model(samples[:males_x.shape[0]])  # TODO check if x[:males_x.shape[0]] = males_x\n",
    "                label_preds = training_params.model(samples)[:males_x.shape[0]]  # TODO check if x[:males_x.shape[0]] = males_x\n",
    "                label_loss = training_params.label_criterion(label_preds, label_y)\n",
    "\n",
    "                # TODO check the discriminator\n",
    "                extracted_features = training_params.model.avgpool.activation['avgpool']  # Size: torch.Size([16, 512, 1, 1])\n",
    "                extracted_features = extracted_features.view(extracted_features.shape[0], -1)\n",
    "                domain_preds = training_params.model.discriminator(extracted_features).squeeze()\n",
    "                domain_loss = training_params.domain_criterion(domain_preds, domain_y)\n",
    "                \n",
    "                loss = label_loss+domain_loss\n",
    "                # backward + optimize only if in training phase\n",
    "                loss.backward()\n",
    "                training_params.optimizer.step()\n",
    "\n",
    "            batch_loss = loss.item() * samples.size(0)\n",
    "            running_corrects += torch.sum(label_preds.max(1)[1] == label_y.data)\n",
    "            running_corrects_domain += binary_acc(domain_preds, domain_y.data)\n",
    "            \n",
    "\n",
    "            if writer is not None:  # save train label_loss for each batch\n",
    "                x_axis = 1000 * (epoch + i / (males_dataloader.dataset_size['train'] // BATCH_SIZE))#TODO devidie by batch size or batch size//2?\n",
    "                writer.add_scalar('batch label_loss', batch_loss / BATCH_SIZE, x_axis)\n",
    "\n",
    "        if training_params.scheduler is not None:\n",
    "            training_params.scheduler.step()  # scheduler step is performed per-epoch in the training phase\n",
    "\n",
    "        train_acc = running_corrects / males_dataloader.dataset_size['train'] # TODO change the accuracy ratio by the relevant dataset\n",
    "        train_acc_domain = running_corrects_domain / i # avg accuracy per epoch (i= num. of batches)\n",
    "\n",
    "        epoch_loss, epoch_acc = eval_model(males_dataloader, training_params)\n",
    "\n",
    "        if writer is not None:  # save epoch accuracy\n",
    "            x_axis = epoch\n",
    "            writer.add_scalar('accuracy-train', train_acc, x_axis)\n",
    "            writer.add_scalar('accuracy-val', epoch_acc, x_axis)\n",
    "            writer.add_scalar('accuracy-train-discriminator', train_acc_domain, x_axis)\n",
    "            \n",
    "\n",
    "    time_elapsed = time.time() - since\n",
    "    print('Training complete in {:.0f}m {:.0f}s'.format(\n",
    "        time_elapsed // 60, time_elapsed % 60))\n",
    "    # return the last trained model\n",
    "    return training_params\n",
    "\n",
    "def eval_model(dataloader, training_params):\n",
    "    training_params.model.eval()  # Set model to evaluate mode\n",
    "    running_loss = 0.0\n",
    "    running_corrects = 0\n",
    "\n",
    "    for i, (inputs, labels) in enumerate(dataloader.data['val']):\n",
    "        # data['val'] contains (input,labels) for every batch (so i=[1...NUM OF BATCHES]\n",
    "\n",
    "        inputs = inputs.to(device)\n",
    "        labels = labels.to(device)\n",
    "\n",
    "        # zero the parameter gradients\n",
    "        training_params.optimizer.zero_grad()\n",
    "\n",
    "        # forward\n",
    "        # track history if only in train\n",
    "        with torch.set_grad_enabled(False):\n",
    "            outputs = training_params.model(inputs)\n",
    "            _, preds = torch.max(outputs, 1)\n",
    "            loss = training_params.label_criterion(outputs, labels)\n",
    "\n",
    "        # statistics - sum loss and accuracy on all batches\n",
    "        running_loss += loss.item() * inputs.size(0)  # item.loss() is the average loss of the batch\n",
    "        running_corrects += torch.sum(outputs.max(1)[1] == labels.data)\n",
    "\n",
    "    epoch_loss = running_loss / dataloader.dataset_size['val'] \n",
    "    epoch_acc = running_corrects.double() / dataloader.dataset_size['val'] \n",
    "    print(f'Test Loss: {epoch_loss:.4f} TestAcc: {epoch_acc:.4f}')\n",
    "    return epoch_loss, epoch_acc"
   ]
  },
  {
   "cell_type": "code",
   "execution_count": 13,
   "metadata": {},
   "outputs": [],
   "source": [
    "#model_conv.eval()"
   ]
  },
  {
   "cell_type": "markdown",
   "metadata": {
    "colab_type": "text",
    "id": "35uVilmuNgg-"
   },
   "source": [
    "# Train Model"
   ]
  },
  {
   "cell_type": "code",
   "execution_count": 14,
   "metadata": {
    "colab": {
     "base_uri": "https://localhost:8080/",
     "height": 34
    },
    "colab_type": "code",
    "id": "IaCCoou62TKD",
    "outputId": "058f59dd-7db0-4456-f29d-42ae2d4567c6"
   },
   "outputs": [],
   "source": [
    "# CHECK_POINT_PATH = LABS_DIR/'ModelParams'/'checkpoint.tar'\n",
    "\n",
    "# # !del $CHECK_POINT_PATH\n",
    "\n",
    "# try:\n",
    "#     checkpoint = torch.load(CHECK_POINT_PATH)\n",
    "#     print(\"checkpoint loaded\")\n",
    "# except:\n",
    "#     checkpoint = None\n",
    "#     print(\"checkpoint not found\")"
   ]
  },
  {
   "cell_type": "code",
   "execution_count": 15,
   "metadata": {
    "colab": {},
    "colab_type": "code",
    "id": "Ase07EAFAHwO"
   },
   "outputs": [],
   "source": [
    "# model_conv.eval()\n",
    "def test(dataloader,training_params):\n",
    "    epoch_loss, epoch_acc = eval_model(dataloader, training_params)\n",
    "    print(f'Test accuracy: {epoch_acc:.4f}')\n",
    "    "
   ]
  },
  {
   "cell_type": "code",
   "execution_count": 16,
   "metadata": {},
   "outputs": [
    {
     "name": "stdout",
     "output_type": "stream",
     "text": [
      "Starting, experiment name:  20200823-135052_final_tuning_TWO_FC_lr_0.0001_st_7_gma_0.5_wDK_0.01\n",
      "Starting epochs\n",
      "Epoch: 1 of 30\n",
      "Test Loss: 1.9021 TestAcc: 0.2040\n",
      "Epoch: 2 of 30\n",
      "Test Loss: 1.7966 TestAcc: 0.2943\n",
      "Epoch: 3 of 30\n",
      "Test Loss: 1.8236 TestAcc: 0.2709\n",
      "Epoch: 4 of 30\n",
      "Test Loss: 1.7148 TestAcc: 0.3913\n",
      "Epoch: 5 of 30\n",
      "Test Loss: 1.6880 TestAcc: 0.3779\n",
      "Epoch: 6 of 30\n",
      "Test Loss: 1.6737 TestAcc: 0.4515\n",
      "Epoch: 7 of 30\n",
      "Test Loss: 1.6502 TestAcc: 0.3846\n",
      "Epoch: 8 of 30\n",
      "Test Loss: 1.5449 TestAcc: 0.4849\n",
      "Epoch: 9 of 30\n",
      "Test Loss: 1.6041 TestAcc: 0.4314\n",
      "Epoch: 10 of 30\n",
      "Test Loss: 1.5690 TestAcc: 0.4482\n",
      "Epoch: 11 of 30\n",
      "Test Loss: 1.5933 TestAcc: 0.4582\n",
      "Epoch: 12 of 30\n",
      "Test Loss: 1.5782 TestAcc: 0.4314\n",
      "Epoch: 13 of 30\n",
      "Test Loss: 1.5732 TestAcc: 0.4548\n",
      "Epoch: 14 of 30\n",
      "Test Loss: 1.6514 TestAcc: 0.4181\n",
      "Epoch: 15 of 30\n",
      "Test Loss: 1.5555 TestAcc: 0.4314\n",
      "Epoch: 16 of 30\n",
      "Test Loss: 1.5944 TestAcc: 0.4515\n",
      "Epoch: 17 of 30\n",
      "Test Loss: 1.5985 TestAcc: 0.4649\n",
      "Epoch: 18 of 30\n",
      "Test Loss: 1.5679 TestAcc: 0.4548\n",
      "Epoch: 19 of 30\n",
      "Test Loss: 1.6109 TestAcc: 0.4582\n",
      "Epoch: 20 of 30\n",
      "Test Loss: 1.5898 TestAcc: 0.4348\n",
      "Epoch: 21 of 30\n",
      "Test Loss: 1.6636 TestAcc: 0.4482\n",
      "Epoch: 22 of 30\n",
      "Test Loss: 1.6526 TestAcc: 0.4214\n",
      "Epoch: 23 of 30\n",
      "Test Loss: 1.6648 TestAcc: 0.4849\n",
      "Epoch: 24 of 30\n",
      "Test Loss: 1.6097 TestAcc: 0.4649\n",
      "Epoch: 25 of 30\n",
      "Test Loss: 1.6415 TestAcc: 0.4615\n",
      "Epoch: 26 of 30\n",
      "Test Loss: 1.6189 TestAcc: 0.4849\n",
      "Epoch: 27 of 30\n",
      "Test Loss: 1.6297 TestAcc: 0.4849\n",
      "Epoch: 28 of 30\n",
      "Test Loss: 1.6003 TestAcc: 0.4615\n",
      "Epoch: 29 of 30\n",
      "Test Loss: 1.6554 TestAcc: 0.4816\n",
      "Epoch: 30 of 30\n",
      "Test Loss: 1.6222 TestAcc: 0.4749\n",
      "Training complete in 9m 5s\n",
      "Experiment {experiment_name} - testing on the women domain\n",
      "Test Loss: 1.9016 TestAcc: 0.3589\n",
      "Test accuracy: 0.3589\n",
      "Finished -----------------\n",
      "\n",
      "\n",
      "Starting, experiment name:  20200823-140001_final_tuning_NO_FC_lr_0.0001_st_7_gma_0.5_wDK_0.1\n",
      "Starting epochs\n",
      "Epoch: 1 of 30\n",
      "Test Loss: 1.5845 TestAcc: 0.3779\n",
      "Epoch: 2 of 30\n",
      "Test Loss: 1.5339 TestAcc: 0.4247\n",
      "Epoch: 3 of 30\n",
      "Test Loss: 1.7974 TestAcc: 0.3411\n",
      "Epoch: 4 of 30\n",
      "Test Loss: 1.8536 TestAcc: 0.3946\n",
      "Epoch: 5 of 30\n",
      "Test Loss: 1.7045 TestAcc: 0.4080\n",
      "Epoch: 6 of 30\n",
      "Test Loss: 1.7080 TestAcc: 0.4247\n",
      "Epoch: 7 of 30\n",
      "Test Loss: 1.6791 TestAcc: 0.3645\n",
      "Epoch: 8 of 30\n",
      "Test Loss: 1.4867 TestAcc: 0.4716\n",
      "Epoch: 9 of 30\n",
      "Test Loss: 1.5046 TestAcc: 0.4783\n",
      "Epoch: 10 of 30\n",
      "Test Loss: 1.8121 TestAcc: 0.3813\n",
      "Epoch: 11 of 30\n",
      "Test Loss: 1.8343 TestAcc: 0.4482\n",
      "Epoch: 12 of 30\n",
      "Test Loss: 2.0456 TestAcc: 0.4013\n",
      "Epoch: 13 of 30\n",
      "Test Loss: 1.7814 TestAcc: 0.4649\n",
      "Epoch: 14 of 30\n",
      "Test Loss: 1.9251 TestAcc: 0.4582\n",
      "Epoch: 15 of 30\n",
      "Test Loss: 1.6889 TestAcc: 0.4783\n",
      "Epoch: 16 of 30\n",
      "Test Loss: 1.8572 TestAcc: 0.4883\n",
      "Epoch: 17 of 30\n",
      "Test Loss: 1.8201 TestAcc: 0.5017\n",
      "Epoch: 18 of 30\n",
      "Test Loss: 2.0222 TestAcc: 0.4716\n",
      "Epoch: 19 of 30\n",
      "Test Loss: 1.7839 TestAcc: 0.4916\n",
      "Epoch: 20 of 30\n",
      "Test Loss: 2.0063 TestAcc: 0.4682\n",
      "Epoch: 21 of 30\n",
      "Test Loss: 1.9044 TestAcc: 0.4716\n",
      "Epoch: 22 of 30\n",
      "Test Loss: 1.8922 TestAcc: 0.4816\n",
      "Epoch: 23 of 30\n",
      "Test Loss: 1.8819 TestAcc: 0.4983\n",
      "Epoch: 24 of 30\n",
      "Test Loss: 1.8664 TestAcc: 0.5117\n",
      "Epoch: 25 of 30\n",
      "Test Loss: 1.8377 TestAcc: 0.4950\n",
      "Epoch: 26 of 30\n",
      "Test Loss: 1.9182 TestAcc: 0.4649\n",
      "Epoch: 27 of 30\n",
      "Test Loss: 1.8898 TestAcc: 0.4849\n",
      "Epoch: 28 of 30\n",
      "Test Loss: 1.8585 TestAcc: 0.5017\n",
      "Epoch: 29 of 30\n",
      "Test Loss: 1.9515 TestAcc: 0.4615\n",
      "Epoch: 30 of 30\n",
      "Test Loss: 1.9058 TestAcc: 0.4783\n",
      "Training complete in 8m 47s\n",
      "Experiment {experiment_name} - testing on the women domain\n",
      "Test Loss: 2.3666 TestAcc: 0.3957\n",
      "Test accuracy: 0.3957\n",
      "Finished -----------------\n",
      "\n",
      "\n",
      "Starting, experiment name:  20200823-140849_final_tuning_ONE_FC_lr_0.0001_st_7_gma_0.5_wDK_0.1\n",
      "Starting epochs\n",
      "Epoch: 1 of 30\n",
      "Test Loss: 1.6602 TestAcc: 0.3712\n",
      "Epoch: 2 of 30\n",
      "Test Loss: 1.6705 TestAcc: 0.3880\n",
      "Epoch: 3 of 30\n",
      "Test Loss: 1.5826 TestAcc: 0.4114\n",
      "Epoch: 4 of 30\n",
      "Test Loss: 1.4993 TestAcc: 0.4649\n",
      "Epoch: 5 of 30\n",
      "Test Loss: 1.7701 TestAcc: 0.3579\n",
      "Epoch: 6 of 30\n",
      "Test Loss: 1.6322 TestAcc: 0.4314\n",
      "Epoch: 7 of 30\n",
      "Test Loss: 1.6501 TestAcc: 0.4080\n",
      "Epoch: 8 of 30\n",
      "Test Loss: 1.4519 TestAcc: 0.4582\n",
      "Epoch: 9 of 30\n",
      "Test Loss: 1.4412 TestAcc: 0.4816\n",
      "Epoch: 10 of 30\n",
      "Test Loss: 1.4011 TestAcc: 0.4716\n",
      "Epoch: 11 of 30\n",
      "Test Loss: 1.5604 TestAcc: 0.4181\n",
      "Epoch: 12 of 30\n",
      "Test Loss: 1.4712 TestAcc: 0.4515\n",
      "Epoch: 13 of 30\n",
      "Test Loss: 1.5655 TestAcc: 0.4214\n",
      "Epoch: 14 of 30\n",
      "Test Loss: 1.5402 TestAcc: 0.4482\n",
      "Epoch: 15 of 30\n",
      "Test Loss: 1.4426 TestAcc: 0.4649\n",
      "Epoch: 16 of 30\n",
      "Test Loss: 1.4591 TestAcc: 0.4749\n",
      "Epoch: 17 of 30\n",
      "Test Loss: 1.5663 TestAcc: 0.4247\n",
      "Epoch: 18 of 30\n",
      "Test Loss: 1.5132 TestAcc: 0.4415\n",
      "Epoch: 19 of 30\n",
      "Test Loss: 1.5209 TestAcc: 0.4716\n",
      "Epoch: 20 of 30\n",
      "Test Loss: 1.4528 TestAcc: 0.4849\n",
      "Epoch: 21 of 30\n",
      "Test Loss: 1.5525 TestAcc: 0.4147\n",
      "Epoch: 22 of 30\n",
      "Test Loss: 1.5001 TestAcc: 0.4749\n",
      "Epoch: 23 of 30\n",
      "Test Loss: 1.5781 TestAcc: 0.4682\n",
      "Epoch: 24 of 30\n",
      "Test Loss: 1.6199 TestAcc: 0.4515\n",
      "Epoch: 25 of 30\n",
      "Test Loss: 1.6022 TestAcc: 0.4448\n",
      "Epoch: 26 of 30\n",
      "Test Loss: 1.5568 TestAcc: 0.4649\n",
      "Epoch: 27 of 30\n",
      "Test Loss: 1.5694 TestAcc: 0.4548\n",
      "Epoch: 28 of 30\n",
      "Test Loss: 1.6526 TestAcc: 0.4348\n",
      "Epoch: 29 of 30\n",
      "Test Loss: 1.6419 TestAcc: 0.4682\n",
      "Epoch: 30 of 30\n",
      "Test Loss: 1.5886 TestAcc: 0.4783\n",
      "Training complete in 9m 2s\n",
      "Experiment {experiment_name} - testing on the women domain\n",
      "Test Loss: 1.8206 TestAcc: 0.3773\n",
      "Test accuracy: 0.3773\n",
      "Finished -----------------\n",
      "\n",
      "\n",
      "Starting, experiment name:  20200823-141753_final_tuning_NO_FC_lr_0.0001_st_7_gma_0.3_wDK_0.1\n",
      "Starting epochs\n",
      "Epoch: 1 of 30\n",
      "Test Loss: 1.5663 TestAcc: 0.3913\n",
      "Epoch: 2 of 30\n",
      "Test Loss: 1.5702 TestAcc: 0.4548\n",
      "Epoch: 3 of 30\n",
      "Test Loss: 1.6695 TestAcc: 0.4348\n",
      "Epoch: 4 of 30\n",
      "Test Loss: 1.6748 TestAcc: 0.3913\n",
      "Epoch: 5 of 30\n",
      "Test Loss: 1.5678 TestAcc: 0.4214\n",
      "Epoch: 6 of 30\n",
      "Test Loss: 1.6728 TestAcc: 0.4114\n",
      "Epoch: 7 of 30\n",
      "Test Loss: 1.8197 TestAcc: 0.4080\n",
      "Epoch: 8 of 30\n",
      "Test Loss: 1.5465 TestAcc: 0.4649\n",
      "Epoch: 9 of 30\n",
      "Test Loss: 1.6749 TestAcc: 0.4615\n",
      "Epoch: 10 of 30\n",
      "Test Loss: 1.7959 TestAcc: 0.4783\n",
      "Epoch: 11 of 30\n",
      "Test Loss: 2.1581 TestAcc: 0.4649\n",
      "Epoch: 12 of 30\n",
      "Test Loss: 1.8992 TestAcc: 0.4716\n",
      "Epoch: 13 of 30\n",
      "Test Loss: 1.8821 TestAcc: 0.4682\n",
      "Epoch: 14 of 30\n",
      "Test Loss: 2.1451 TestAcc: 0.4615\n",
      "Epoch: 15 of 30\n",
      "Test Loss: 1.9184 TestAcc: 0.4482\n",
      "Epoch: 16 of 30\n",
      "Test Loss: 1.9667 TestAcc: 0.4783\n",
      "Epoch: 17 of 30\n",
      "Test Loss: 1.9721 TestAcc: 0.4883\n",
      "Epoch: 18 of 30\n",
      "Test Loss: 1.9480 TestAcc: 0.4783\n",
      "Epoch: 19 of 30\n",
      "Test Loss: 2.0159 TestAcc: 0.4816\n",
      "Epoch: 20 of 30\n",
      "Test Loss: 1.9762 TestAcc: 0.4582\n",
      "Epoch: 21 of 30\n",
      "Test Loss: 2.0676 TestAcc: 0.4716\n",
      "Epoch: 22 of 30\n",
      "Test Loss: 2.0468 TestAcc: 0.4849\n",
      "Epoch: 23 of 30\n",
      "Test Loss: 2.0283 TestAcc: 0.4749\n",
      "Epoch: 24 of 30\n",
      "Test Loss: 2.0248 TestAcc: 0.4615\n",
      "Epoch: 25 of 30\n",
      "Test Loss: 1.9525 TestAcc: 0.4816\n",
      "Epoch: 26 of 30\n",
      "Test Loss: 2.0095 TestAcc: 0.4849\n",
      "Epoch: 27 of 30\n",
      "Test Loss: 1.9469 TestAcc: 0.4950\n",
      "Epoch: 28 of 30\n",
      "Test Loss: 1.9965 TestAcc: 0.4916\n",
      "Epoch: 29 of 30\n",
      "Test Loss: 1.9749 TestAcc: 0.5017\n",
      "Epoch: 30 of 30\n",
      "Test Loss: 1.9949 TestAcc: 0.4883\n",
      "Training complete in 8m 59s\n",
      "Experiment {experiment_name} - testing on the women domain\n",
      "Test Loss: 2.3707 TestAcc: 0.4571\n",
      "Test accuracy: 0.4571\n",
      "Finished -----------------\n",
      "\n",
      "\n"
     ]
    }
   ],
   "source": [
    "#### Tensorboard Stuff\n",
    "NUM_EPOCHS = 30\n",
    "\n",
    "def run_experiment(dropout_layer : NET_ARCHICECTURE, data_m,data_f, lr_initial, gamma, step_size, weight_decay, num_of_epochs, experiment_note=\"\"):\n",
    "    \"\"\"\n",
    "    Gets all hyper parameters and creates the relevant optimizer and scheduler according to those params\n",
    "\n",
    "    \"\"\"\n",
    "    experiment_name = datetime.now().strftime(\"%Y%m%d-%H%M%S\") + \"_\" + experiment_note + f'_{dropout_layer.name}_lr_{lr_initial}_st_{step_size}_gma_{gamma}_wDK_{weight_decay}'\n",
    "    training_params = TrainingParams(experiment_name , get_model(data_m.classes, dropout_layer), lr_initial, weight_decay, step_size, gamma, num_of_epochs)\n",
    "\n",
    "    print(\"Starting, experiment name: \", experiment_name)\n",
    "\n",
    "    writer = SummaryWriter('runs/' + experiment_name)\n",
    "    trained_params_model = train_model(data_m, data_f, training_params, writer=writer)\n",
    "    \n",
    "    print(\"Experiment {experiment_name} - testing on the women domain\")\n",
    "    test(data_f,trained_params_model)\n",
    "    print(\"Finished -----------------\\r\\n\\r\\n\")\n",
    "    return trained_params_model\n",
    "\n",
    "\n",
    "# for lr in [0.001, 0.0005, 0.0001]:\n",
    "#     for scheduler_step_size in [7]:\n",
    "#         for scheduler_gamma in [0.3, 0.5]:\n",
    "#             for weight_decay in [0.01,0.05,0.1]:\n",
    "#                 model_conv = run_experiment(dataloder_male,dataloder_female, lr, scheduler_gamma, scheduler_step_size, weight_decay, NUM_EPOCHS,'fc_20+50_DO')\n",
    "\n",
    "\n",
    "# trained_model_and_params = run_experiment(dropout_layer=NET_ARCHICECTURE.TWO_FC, data_m=dataloder_male,data_f=dataloder_female, lr_initial=0.0001, gamma=0.5, step_size=7, weight_decay=0.01 , num_of_epochs=10,experiment_note='final_tuning')\n",
    "\n",
    "trained_model_and_params = run_experiment(dropout_layer=NET_ARCHICECTURE.TWO_FC, data_m=dataloder_male,data_f=dataloder_female, lr_initial=0.0001, gamma=0.5, step_size=7, weight_decay=0.01 , num_of_epochs=NUM_EPOCHS,experiment_note='final_tuning')\n",
    "trained_model_and_params = run_experiment(dropout_layer=NET_ARCHICECTURE.NO_FC, data_m=dataloder_male,data_f=dataloder_female, lr_initial=0.0001, gamma=0.5, step_size=7, weight_decay=0.1, num_of_epochs=NUM_EPOCHS,experiment_note='final_tuning')\n",
    "trained_model_and_params = run_experiment(dropout_layer=NET_ARCHICECTURE.ONE_FC, data_m=dataloder_male,data_f=dataloder_female, lr_initial=0.0001, gamma=0.5, step_size=7, weight_decay=0.1, num_of_epochs=NUM_EPOCHS,experiment_note='final_tuning')\n",
    "trained_model_and_params = run_experiment(dropout_layer=NET_ARCHICECTURE.NO_FC, data_m=dataloder_male,data_f=dataloder_female, lr_initial=0.0001, gamma=0.3, step_size=7, weight_decay=0.1, num_of_epochs=NUM_EPOCHS,experiment_note='final_tuning')\n",
    "\n",
    "# trained_model_and_params = run_experiment(NET_ARCHICECTURE.NO_FC, dataloder_male,dataloder_female, lr, scheduler_gamma, scheduler_step_size, weight_decay, NUM_EPOCHS,'final_tuning')\n"
   ]
  },
  {
   "cell_type": "code",
   "execution_count": 17,
   "metadata": {
    "colab": {},
    "colab_type": "code",
    "id": "C3WHcYME2huF"
   },
   "outputs": [],
   "source": [
    "# torch.save({'model_state_dict': model_conv.state_dict(),\n",
    "#             'optimizer_state_dict': optimizer_conv.state_dict(),\n",
    "#             'best_val_loss': best_val_loss,\n",
    "#             'best_val_accuracy': best_val_acc,\n",
    "#             'scheduler_state_dict' : exp_lr_scheduler.state_dict(),\n",
    "#             }, CHECK_POINT_PATH)"
   ]
  },
  {
   "cell_type": "code",
   "execution_count": null,
   "metadata": {},
   "outputs": [],
   "source": [
    "torch.save({'model_state_dict': model_conv.state_dict(),\n",
    "            'optimizer_state_dict': optimizer_conv.state_dict(),\n",
    "            'best_val_loss': best_val_loss,\n",
    "            'best_val_accuracy': best_val_acc,\n",
    "            'scheduler_state_dict' : exp_lr_scheduler.state_dict(),\n",
    "            }, CHECK_POINT_PATH)"
   ]
  },
  {
   "cell_type": "markdown",
   "metadata": {
    "colab_type": "text",
    "id": "rQuhWHVqVJE_"
   },
   "source": [
    "# Test Model"
   ]
  }
 ],
 "metadata": {
  "accelerator": "GPU",
  "colab": {
   "collapsed_sections": [],
   "name": "NetWithDataLoader.ipynb",
   "provenance": []
  },
  "hide_input": false,
  "kernelspec": {
   "display_name": "Python 3",
   "language": "python",
   "name": "python3"
  },
  "language_info": {
   "codemirror_mode": {
    "name": "ipython",
    "version": 3
   },
   "file_extension": ".py",
   "mimetype": "text/x-python",
   "name": "python",
   "nbconvert_exporter": "python",
   "pygments_lexer": "ipython3",
   "version": "3.7.7"
  },
  "output_auto_scroll": false,
  "varInspector": {
   "cols": {
    "lenName": 16,
    "lenType": 16,
    "lenVar": 40
   },
   "kernels_config": {
    "python": {
     "delete_cmd_postfix": "",
     "delete_cmd_prefix": "del ",
     "library": "var_list.py",
     "varRefreshCmd": "print(var_dic_list())"
    },
    "r": {
     "delete_cmd_postfix": ") ",
     "delete_cmd_prefix": "rm(",
     "library": "var_list.r",
     "varRefreshCmd": "cat(var_dic_list()) "
    }
   },
   "types_to_exclude": [
    "module",
    "function",
    "builtin_function_or_method",
    "instance",
    "_Feature"
   ],
   "window_display": false
  },
  "widgets": {
   "application/vnd.jupyter.widget-state+json": {
    "08e0b965fc614feb960cf954223db3e3": {
     "model_module": "@jupyter-widgets/base",
     "model_name": "LayoutModel",
     "state": {
      "_model_module": "@jupyter-widgets/base",
      "_model_module_version": "1.2.0",
      "_model_name": "LayoutModel",
      "_view_count": null,
      "_view_module": "@jupyter-widgets/base",
      "_view_module_version": "1.2.0",
      "_view_name": "LayoutView",
      "align_content": null,
      "align_items": null,
      "align_self": null,
      "border": null,
      "bottom": null,
      "display": null,
      "flex": null,
      "flex_flow": null,
      "grid_area": null,
      "grid_auto_columns": null,
      "grid_auto_flow": null,
      "grid_auto_rows": null,
      "grid_column": null,
      "grid_gap": null,
      "grid_row": null,
      "grid_template_areas": null,
      "grid_template_columns": null,
      "grid_template_rows": null,
      "height": null,
      "justify_content": null,
      "justify_items": null,
      "left": null,
      "margin": null,
      "max_height": null,
      "max_width": null,
      "min_height": null,
      "min_width": null,
      "object_fit": null,
      "object_position": null,
      "order": null,
      "overflow": null,
      "overflow_x": null,
      "overflow_y": null,
      "padding": null,
      "right": null,
      "top": null,
      "visibility": null,
      "width": null
     }
    },
    "2e81eb8a8cdb40738fb85ce51cfed6c7": {
     "model_module": "@jupyter-widgets/controls",
     "model_name": "HTMLModel",
     "state": {
      "_dom_classes": [],
      "_model_module": "@jupyter-widgets/controls",
      "_model_module_version": "1.5.0",
      "_model_name": "HTMLModel",
      "_view_count": null,
      "_view_module": "@jupyter-widgets/controls",
      "_view_module_version": "1.5.0",
      "_view_name": "HTMLView",
      "description": "",
      "description_tooltip": null,
      "layout": "IPY_MODEL_08e0b965fc614feb960cf954223db3e3",
      "placeholder": "​",
      "style": "IPY_MODEL_6d2c8e3068854041be63a92194b35a64",
      "value": " 44.7M/44.7M [11:04&lt;00:00, 70.5kB/s]"
     }
    },
    "3876f5ef3ff947b7b26c72b6512166f8": {
     "model_module": "@jupyter-widgets/controls",
     "model_name": "HBoxModel",
     "state": {
      "_dom_classes": [],
      "_model_module": "@jupyter-widgets/controls",
      "_model_module_version": "1.5.0",
      "_model_name": "HBoxModel",
      "_view_count": null,
      "_view_module": "@jupyter-widgets/controls",
      "_view_module_version": "1.5.0",
      "_view_name": "HBoxView",
      "box_style": "",
      "children": [
       "IPY_MODEL_fa2dc4675ff940b48a90425981eb55a6",
       "IPY_MODEL_2e81eb8a8cdb40738fb85ce51cfed6c7"
      ],
      "layout": "IPY_MODEL_79f9ecfbdd9a4871b95ae9668720c847"
     }
    },
    "6d2c8e3068854041be63a92194b35a64": {
     "model_module": "@jupyter-widgets/controls",
     "model_name": "DescriptionStyleModel",
     "state": {
      "_model_module": "@jupyter-widgets/controls",
      "_model_module_version": "1.5.0",
      "_model_name": "DescriptionStyleModel",
      "_view_count": null,
      "_view_module": "@jupyter-widgets/base",
      "_view_module_version": "1.2.0",
      "_view_name": "StyleView",
      "description_width": ""
     }
    },
    "79f9ecfbdd9a4871b95ae9668720c847": {
     "model_module": "@jupyter-widgets/base",
     "model_name": "LayoutModel",
     "state": {
      "_model_module": "@jupyter-widgets/base",
      "_model_module_version": "1.2.0",
      "_model_name": "LayoutModel",
      "_view_count": null,
      "_view_module": "@jupyter-widgets/base",
      "_view_module_version": "1.2.0",
      "_view_name": "LayoutView",
      "align_content": null,
      "align_items": null,
      "align_self": null,
      "border": null,
      "bottom": null,
      "display": null,
      "flex": null,
      "flex_flow": null,
      "grid_area": null,
      "grid_auto_columns": null,
      "grid_auto_flow": null,
      "grid_auto_rows": null,
      "grid_column": null,
      "grid_gap": null,
      "grid_row": null,
      "grid_template_areas": null,
      "grid_template_columns": null,
      "grid_template_rows": null,
      "height": null,
      "justify_content": null,
      "justify_items": null,
      "left": null,
      "margin": null,
      "max_height": null,
      "max_width": null,
      "min_height": null,
      "min_width": null,
      "object_fit": null,
      "object_position": null,
      "order": null,
      "overflow": null,
      "overflow_x": null,
      "overflow_y": null,
      "padding": null,
      "right": null,
      "top": null,
      "visibility": null,
      "width": null
     }
    },
    "966b7f8371654dd2a54f484c4a9c0129": {
     "model_module": "@jupyter-widgets/controls",
     "model_name": "ProgressStyleModel",
     "state": {
      "_model_module": "@jupyter-widgets/controls",
      "_model_module_version": "1.5.0",
      "_model_name": "ProgressStyleModel",
      "_view_count": null,
      "_view_module": "@jupyter-widgets/base",
      "_view_module_version": "1.2.0",
      "_view_name": "StyleView",
      "bar_color": null,
      "description_width": "initial"
     }
    },
    "a315579ab89f43e2b7d184c7c4d64baa": {
     "model_module": "@jupyter-widgets/base",
     "model_name": "LayoutModel",
     "state": {
      "_model_module": "@jupyter-widgets/base",
      "_model_module_version": "1.2.0",
      "_model_name": "LayoutModel",
      "_view_count": null,
      "_view_module": "@jupyter-widgets/base",
      "_view_module_version": "1.2.0",
      "_view_name": "LayoutView",
      "align_content": null,
      "align_items": null,
      "align_self": null,
      "border": null,
      "bottom": null,
      "display": null,
      "flex": null,
      "flex_flow": null,
      "grid_area": null,
      "grid_auto_columns": null,
      "grid_auto_flow": null,
      "grid_auto_rows": null,
      "grid_column": null,
      "grid_gap": null,
      "grid_row": null,
      "grid_template_areas": null,
      "grid_template_columns": null,
      "grid_template_rows": null,
      "height": null,
      "justify_content": null,
      "justify_items": null,
      "left": null,
      "margin": null,
      "max_height": null,
      "max_width": null,
      "min_height": null,
      "min_width": null,
      "object_fit": null,
      "object_position": null,
      "order": null,
      "overflow": null,
      "overflow_x": null,
      "overflow_y": null,
      "padding": null,
      "right": null,
      "top": null,
      "visibility": null,
      "width": null
     }
    },
    "fa2dc4675ff940b48a90425981eb55a6": {
     "model_module": "@jupyter-widgets/controls",
     "model_name": "IntProgressModel",
     "state": {
      "_dom_classes": [],
      "_model_module": "@jupyter-widgets/controls",
      "_model_module_version": "1.5.0",
      "_model_name": "IntProgressModel",
      "_view_count": null,
      "_view_module": "@jupyter-widgets/controls",
      "_view_module_version": "1.5.0",
      "_view_name": "ProgressView",
      "bar_style": "success",
      "description": "100%",
      "description_tooltip": null,
      "layout": "IPY_MODEL_a315579ab89f43e2b7d184c7c4d64baa",
      "max": 46827520,
      "min": 0,
      "orientation": "horizontal",
      "style": "IPY_MODEL_966b7f8371654dd2a54f484c4a9c0129",
      "value": 46827520
     }
    }
   }
  }
 },
 "nbformat": 4,
 "nbformat_minor": 4
}
