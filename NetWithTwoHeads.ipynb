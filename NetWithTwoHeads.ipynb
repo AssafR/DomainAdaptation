{
 "cells": [
  {
   "cell_type": "code",
   "execution_count": 1,
   "metadata": {},
   "outputs": [
    {
     "data": {
      "text/html": [
       "<style>.container { width:100% !important; }</style>"
      ],
      "text/plain": [
       "<IPython.core.display.HTML object>"
      ]
     },
     "metadata": {},
     "output_type": "display_data"
    }
   ],
   "source": [
    "from IPython.core.display import display, HTML\n",
    "display(HTML(\"<style>.container { width:100% !important; }</style>\"))"
   ]
  },
  {
   "cell_type": "code",
   "execution_count": 2,
   "metadata": {
    "colab": {
     "base_uri": "https://localhost:8080/",
     "height": 51
    },
    "colab_type": "code",
    "id": "npGiuvftxf1z",
    "outputId": "48a8cb76-f300-4db3-f216-eba77d4cce90"
   },
   "outputs": [
    {
     "name": "stdout",
     "output_type": "stream",
     "text": [
      "Torch Version:  1.5.0\n",
      "Cuda available? True\n"
     ]
    }
   ],
   "source": [
    "from dataLoaders import DataLoaders\n",
    "import numpy as np\n",
    "import torchvision\n",
    "\n",
    "import matplotlib.pyplot as plt\n",
    "import time\n",
    "from pathlib import Path\n",
    "from tqdm.notebook import trange, tqdm\n",
    "from torch.utils.tensorboard import SummaryWriter\n",
    "import torch\n",
    "import torch.nn as nn\n",
    "import torch.optim as optim\n",
    "from torch.optim import lr_scheduler\n",
    "# from torchvision import datasets, models, transforms\n",
    "import itertools\n",
    "# import pixiedust\n",
    "import random\n",
    "from torch.utils import data\n",
    "# from itertools import tee\n",
    "from datetime import datetime\n",
    "from utils import NET_ARCHICECTURE\n",
    "from enum import Enum\n",
    "from trainer import Trainer\n",
    "from model import get_model\n",
    "\n",
    "print(\"Torch Version: \", torch.__version__)\n",
    "print(\"Cuda available?\", torch.cuda.is_available())"
   ]
  },
  {
   "cell_type": "code",
   "execution_count": 3,
   "metadata": {
    "colab": {
     "base_uri": "https://localhost:8080/",
     "height": 122
    },
    "colab_type": "code",
    "id": "MHoa2aySwBF_",
    "outputId": "31d7f712-1312-4029-8773-9d4b77d44312"
   },
   "outputs": [],
   "source": [
    "try:\n",
    "    from google.colab import drive\n",
    "    drive.mount('/content/gdrive')\n",
    "    LABS_DIR = Path ('/content/gdrive/My Drive/Labs')\n",
    "except:\n",
    "    LABS_DIR = Path ('C:/Labs/')\n",
    "\n",
    "#DATA_DIR = LABS_DIR/'Data'    \n",
    "DATA_DIR = LABS_DIR/'DataNoDuplicates'\n",
    "#DATA_DIR = LABS_DIR/ 'DataDomains_v1'\n",
    "DATA_DIR_M = LABS_DIR/'DataTraining'/'Male'\n",
    "DATA_DIR_F = LABS_DIR/'DataTraining'/'Female'\n"
   ]
  },
  {
   "cell_type": "code",
   "execution_count": 4,
   "metadata": {},
   "outputs": [],
   "source": [
    "class TrainingParams:\n",
    "    def __init__(self,lr_initial,step_size,gamma,weight_decay, num_epochs):\n",
    "        self.lr = lr_initial\n",
    "        self.step_size = step_size\n",
    "        self.gamma = gamma\n",
    "        self.weight_decay = weight_decay\n",
    "        self.label_criterion = nn.CrossEntropyLoss()  # softmax+log\n",
    "        self.domain_criterion = nn.functional.binary_cross_entropy_with_logits \n",
    "        self.num_epochs = num_epochs\n",
    "#         self.model = None\n",
    "        \n",
    "    def __str__(self):\n",
    "        return f'_lr_{self.lr}_st_{self.step_size}_gma_{self.gamma}_wDK_{self.weight_decay}'\n",
    "    \n",
    "    @property\n",
    "    def model(self):\n",
    "        return self.__model\n",
    "    \n",
    "    @model.setter\n",
    "    def model(self, model_conv):\n",
    "        self.__model = model_conv\n",
    "        self.optimizer = optim.Adam(self.model.parameters(), lr=self.lr, weight_decay=self.weight_decay)\n",
    "        self.scheduler= lr_scheduler.StepLR(self.optimizer, step_size=self.step_size, gamma=self.gamma)        \n",
    "    "
   ]
  },
  {
   "cell_type": "code",
   "execution_count": 5,
   "metadata": {
    "scrolled": false
   },
   "outputs": [],
   "source": [
    "#### sanity check for the images \n",
    "# classes = ['Angry', 'Disgust', 'Fear', 'Happy', 'Neutral', 'Sad', 'Surprise']\n",
    "# for emotion in classes:\n",
    "#     print(\"Class =\",emotion)\n",
    "#     !ls $DATA_DIR\\VAL\\$emotion | wc -l"
   ]
  },
  {
   "cell_type": "markdown",
   "metadata": {},
   "source": [
    "# Data Loader"
   ]
  },
  {
   "cell_type": "code",
   "execution_count": 6,
   "metadata": {
    "colab": {
     "base_uri": "https://localhost:8080/",
     "height": 68
    },
    "colab_type": "code",
    "id": "hmElu6Slwjgf",
    "outputId": "6b438b4a-4913-46c6-9bc5-6884fcfa2d2f"
   },
   "outputs": [
    {
     "name": "stdout",
     "output_type": "stream",
     "text": [
      "device:  cuda:0\n",
      "Classes:  ['Angry', 'Disgust', 'Fear', 'Happy', 'Neutral', 'Sad', 'Surprise']\n",
      "Male Train image size: 2819\n",
      "Male Validation image size: 707\n",
      "Female Train image size: 2954\n",
      "Female Validation image size: 742\n"
     ]
    }
   ],
   "source": [
    "BATCH_SIZE = 32\n",
    "SAMPLE_SIZE = 3000 \n",
    "\n",
    "dataloader_all = DataLoaders(sample_size=SAMPLE_SIZE, batch_size=BATCH_SIZE//2, data_dir=DATA_DIR, val_same_as_train=False)\n",
    "dataloder_male = DataLoaders(sample_size=None, batch_size=BATCH_SIZE//2, data_dir=DATA_DIR_M, val_same_as_train=False)\n",
    "dataloder_female = DataLoaders(sample_size=None, batch_size=BATCH_SIZE//2, data_dir=DATA_DIR_F, val_same_as_train=False)\n",
    "\n",
    "device = torch.device(\"cuda:0\" if torch.cuda.is_available() else \"cpu\")\n",
    "print(\"device: \", device)\n",
    "print(\"Classes: \", dataloder_male.classes) \n",
    "print(f'Male Train image size: {dataloder_male.dataset_size[\"train\"]}')\n",
    "print(f'Male Validation image size: {dataloder_male.dataset_size[\"val\"]}')\n",
    "print(f'Female Train image size: {dataloder_female.dataset_size[\"train\"]}')\n",
    "print(f'Female Validation image size: {dataloder_female.dataset_size[\"val\"]}')"
   ]
  },
  {
   "cell_type": "code",
   "execution_count": 7,
   "metadata": {
    "colab": {
     "base_uri": "https://localhost:8080/",
     "height": 165
    },
    "colab_type": "code",
    "id": "aOMEb5deCofk",
    "outputId": "40524968-328f-420d-cfc1-1e3fe2632a01"
   },
   "outputs": [],
   "source": [
    "def imshow(inp, title=None):\n",
    "    \"\"\"Imshow for Tensor.\"\"\"\n",
    "    inp = inp.numpy().transpose((1, 2, 0))\n",
    "    mean = np.array([0.485, 0.456, 0.406])\n",
    "    std = np.array([0.229, 0.224, 0.225])\n",
    "    inp = std * inp + mean\n",
    "    inp = np.clip(inp, 0, 1)\n",
    "    plt.imshow(inp)\n",
    "    if title is not None:\n",
    "        plt.title(title)\n",
    "    plt.pause(0.001)  # pause a bit so that plots are updated  \n"
   ]
  },
  {
   "cell_type": "markdown",
   "metadata": {},
   "source": [
    "# Show sample of the data for review"
   ]
  },
  {
   "cell_type": "code",
   "execution_count": 8,
   "metadata": {
    "scrolled": true
   },
   "outputs": [
    {
     "name": "stdout",
     "output_type": "stream",
     "text": [
      "\n",
      "classes=tensor([2, 1, 2, 5, 0, 6, 0, 0, 4, 4, 6, 0, 2, 0, 6, 2])\n"
     ]
    },
    {
     "data": {
      "image/png": "[encoded data removed]",
      "text/plain": [
       "<Figure size 432x288 with 1 Axes>"
      ]
     },
     "metadata": {
      "needs_background": "light"
     },
     "output_type": "display_data"
    },
    {
     "name": "stdout",
     "output_type": "stream",
     "text": [
      "classes=tensor([0, 1, 5, 4, 2, 3, 0, 3, 1, 4, 4, 5, 6, 0, 4, 3])\n"
     ]
    },
    {
     "data": {
      "image/png": "[encoded data removed]",
      "text/plain": [
       "<Figure size 432x288 with 1 Axes>"
      ]
     },
     "metadata": {
      "needs_background": "light"
     },
     "output_type": "display_data"
    }
   ],
   "source": [
    "# # Get a batch of training data\n",
    "class_names = dataloder_female.classes\n",
    "\n",
    "inputs, classes = next(iter(dataloder_male.data['train']))\n",
    "print()\n",
    "# Make a grid from batch\n",
    "sample_train_images = torchvision.utils.make_grid(inputs)\n",
    "#imshow(sample_train_images, title=classes)\n",
    "print(f\"classes={classes}\")\n",
    "imshow(sample_train_images, title=[class_names[i] for i in classes])\n",
    "\n",
    "\n",
    "# # Get a batch of validation data\n",
    "inputs, classes = next(iter(dataloder_female.data['val']))\n",
    "# Make a grid from batch\n",
    "sample_train_images = torchvision.utils.make_grid(inputs)\n",
    "#imshow(sample_train_images, title=classes)\n",
    "print(f\"classes={classes}\")\n",
    "imshow(sample_train_images, title=[class_names[i] for i in classes])"
   ]
  },
  {
   "cell_type": "markdown",
   "metadata": {
    "colab_type": "text",
    "id": "35uVilmuNgg-"
   },
   "source": [
    "# Train Model"
   ]
  },
  {
   "cell_type": "code",
   "execution_count": 9,
   "metadata": {
    "colab": {
     "base_uri": "https://localhost:8080/",
     "height": 34
    },
    "colab_type": "code",
    "id": "IaCCoou62TKD",
    "outputId": "058f59dd-7db0-4456-f29d-42ae2d4567c6"
   },
   "outputs": [],
   "source": [
    "# CHECK_POINT_PATH = LABS_DIR/'ModelParams'/'checkpoint.tar'\n",
    "\n",
    "# # !del $CHECK_POINT_PATH\n",
    "\n",
    "# try:\n",
    "#     checkpoint = torch.load(CHECK_POINT_PATH)\n",
    "#     print(\"checkpoint loaded\")\n",
    "# except:\n",
    "#     checkpoint = None\n",
    "#     print(\"checkpoint not found\")"
   ]
  },
  {
   "cell_type": "code",
   "execution_count": 10,
   "metadata": {},
   "outputs": [
    {
     "name": "stdout",
     "output_type": "stream",
     "text": [
      "1st case: Train on both genders w\\o discriminator and test separately on the genders\n",
      "Starting, experiment name:  20210111-234725_ND_lr_0.0001_st_7_gma_0.5_wDK_0.01\n",
      "Starting epochs\n",
      "Epoch: 1 of 30\n",
      "Test Loss: 1.3160 TestAcc: 0.5073\n",
      "Epoch: 2 of 30\n",
      "Test Loss: 1.2312 TestAcc: 0.5487\n",
      "Epoch: 3 of 30\n",
      "Test Loss: 1.3234 TestAcc: 0.5353\n",
      "Epoch: 4 of 30\n",
      "Test Loss: 1.3698 TestAcc: 0.5567\n",
      "Epoch: 5 of 30\n",
      "Test Loss: 1.5618 TestAcc: 0.5260\n",
      "Epoch: 6 of 30\n",
      "Test Loss: 1.4912 TestAcc: 0.5343\n",
      "Epoch: 7 of 30\n",
      "Test Loss: 1.7018 TestAcc: 0.5237\n",
      "Epoch: 8 of 30\n",
      "Test Loss: 1.6094 TestAcc: 0.5700\n",
      "Epoch: 9 of 30\n",
      "Test Loss: 1.6675 TestAcc: 0.5500\n",
      "Epoch: 10 of 30\n",
      "Test Loss: 1.6929 TestAcc: 0.5730\n",
      "Epoch: 11 of 30\n",
      "Test Loss: 1.6972 TestAcc: 0.5617\n",
      "Epoch: 12 of 30\n",
      "Test Loss: 1.7771 TestAcc: 0.5507\n",
      "Epoch: 13 of 30\n",
      "Test Loss: 1.8165 TestAcc: 0.5467\n",
      "Epoch: 14 of 30\n",
      "Test Loss: 1.8459 TestAcc: 0.5323\n",
      "Epoch: 15 of 30\n",
      "Test Loss: 1.7435 TestAcc: 0.5730\n",
      "Epoch: 16 of 30\n",
      "Test Loss: 1.7032 TestAcc: 0.5763\n",
      "Epoch: 17 of 30\n",
      "Test Loss: 1.7362 TestAcc: 0.5703\n",
      "Epoch: 18 of 30\n",
      "Test Loss: 1.7582 TestAcc: 0.5613\n",
      "Epoch: 19 of 30\n",
      "Test Loss: 1.7718 TestAcc: 0.5740\n",
      "Epoch: 20 of 30\n",
      "Test Loss: 1.7979 TestAcc: 0.5580\n",
      "Epoch: 21 of 30\n",
      "Test Loss: 1.8175 TestAcc: 0.5673\n",
      "Epoch: 22 of 30\n",
      "Test Loss: 1.7947 TestAcc: 0.5723\n",
      "Epoch: 23 of 30\n",
      "Test Loss: 1.7660 TestAcc: 0.5663\n",
      "Epoch: 24 of 30\n",
      "Test Loss: 1.7741 TestAcc: 0.5680\n",
      "Epoch: 25 of 30\n",
      "Test Loss: 1.7752 TestAcc: 0.5713\n",
      "Epoch: 26 of 30\n",
      "Test Loss: 1.7759 TestAcc: 0.5720\n",
      "Epoch: 27 of 30\n",
      "Test Loss: 1.7515 TestAcc: 0.5763\n",
      "Epoch: 28 of 30\n",
      "Test Loss: 1.8125 TestAcc: 0.5743\n",
      "Epoch: 29 of 30\n",
      "Test Loss: 1.7685 TestAcc: 0.5740\n",
      "Epoch: 30 of 30\n",
      "Test Loss: 1.7686 TestAcc: 0.5807\n",
      "Training complete in 31m 37s\n",
      "Experiment 20210111-234725_ND_lr_0.0001_st_7_gma_0.5_wDK_0.01 - testing on the women domain\n",
      "Test Loss: 1.8742 TestAcc: 0.5827\n",
      "Test accuracy: 0.5827\n",
      "Test Loss: 1.6801 TestAcc: 0.6132\n",
      "Test accuracy: 0.6132\n",
      "{'p1M': 0.5827439886845828, 'p1F': 0.6132075471698113}\n",
      "Finished -----------------\n",
      "\n",
      "\n",
      "2nd case: Train on one gender w\\o discriminator and test separately on the genders\n",
      "Starting, experiment name:  20210112-001909_ND_lr_0.0001_st_7_gma_0.5_wDK_0.01\n",
      "Starting epochs\n",
      "Epoch: 1 of 30\n",
      "Test Loss: 1.3814 TestAcc: 0.4569\n",
      "Epoch: 2 of 30\n",
      "Test Loss: 1.3557 TestAcc: 0.5191\n",
      "Epoch: 3 of 30\n",
      "Test Loss: 1.3918 TestAcc: 0.5163\n",
      "Epoch: 4 of 30\n",
      "Test Loss: 1.4539 TestAcc: 0.5134\n",
      "Epoch: 5 of 30\n",
      "Test Loss: 1.5689 TestAcc: 0.5177\n",
      "Epoch: 6 of 30\n",
      "Test Loss: 1.7336 TestAcc: 0.5134\n",
      "Epoch: 7 of 30\n",
      "Test Loss: 1.6945 TestAcc: 0.4965\n",
      "Epoch: 8 of 30\n",
      "Test Loss: 1.5851 TestAcc: 0.5248\n",
      "Epoch: 9 of 30\n",
      "Test Loss: 1.7640 TestAcc: 0.5276\n",
      "Epoch: 10 of 30\n",
      "Test Loss: 1.8053 TestAcc: 0.5177\n",
      "Epoch: 11 of 30\n",
      "Test Loss: 1.9457 TestAcc: 0.5205\n",
      "Epoch: 12 of 30\n",
      "Test Loss: 1.9849 TestAcc: 0.5191\n",
      "Epoch: 13 of 30\n",
      "Test Loss: 1.9732 TestAcc: 0.5347\n",
      "Epoch: 14 of 30\n",
      "Test Loss: 2.1633 TestAcc: 0.5078\n",
      "Epoch: 15 of 30\n",
      "Test Loss: 1.9613 TestAcc: 0.5149\n",
      "Epoch: 16 of 30\n",
      "Test Loss: 1.9897 TestAcc: 0.5290\n",
      "Epoch: 17 of 30\n",
      "Test Loss: 2.1196 TestAcc: 0.5233\n",
      "Epoch: 18 of 30\n",
      "Test Loss: 2.1590 TestAcc: 0.5389\n",
      "Epoch: 19 of 30\n",
      "Test Loss: 2.0205 TestAcc: 0.5361\n",
      "Epoch: 20 of 30\n",
      "Test Loss: 2.0253 TestAcc: 0.5375\n",
      "Epoch: 21 of 30\n",
      "Test Loss: 2.1827 TestAcc: 0.5460\n",
      "Epoch: 22 of 30\n",
      "Test Loss: 2.0676 TestAcc: 0.5587\n",
      "Epoch: 23 of 30\n",
      "Test Loss: 2.0227 TestAcc: 0.5530\n",
      "Epoch: 24 of 30\n",
      "Test Loss: 2.0978 TestAcc: 0.5530\n",
      "Epoch: 25 of 30\n",
      "Test Loss: 2.1082 TestAcc: 0.5629\n",
      "Epoch: 26 of 30\n",
      "Test Loss: 2.1728 TestAcc: 0.5417\n",
      "Epoch: 27 of 30\n",
      "Test Loss: 2.1272 TestAcc: 0.5474\n",
      "Epoch: 28 of 30\n",
      "Test Loss: 2.0695 TestAcc: 0.5431\n",
      "Epoch: 29 of 30\n",
      "Test Loss: 2.1229 TestAcc: 0.5559\n",
      "Epoch: 30 of 30\n",
      "Test Loss: 2.0766 TestAcc: 0.5488\n",
      "Training complete in 22m 46s\n",
      "Experiment 20210112-001909_ND_lr_0.0001_st_7_gma_0.5_wDK_0.01 - testing on the women domain\n",
      "Test Loss: 2.0766 TestAcc: 0.5488\n",
      "Test accuracy: 0.5488\n",
      "Test Loss: 1.9995 TestAcc: 0.4825\n",
      "Test accuracy: 0.4825\n",
      "{'p2M': 0.5487977369165488, 'p2F': 0.48247978436657685}\n",
      "Finished -----------------\n",
      "\n",
      "\n",
      "3rd case: Train on one gender with discriminator and test separately on the genders\n",
      "Starting, experiment name:  20210112-004204_D_lr_0.0001_st_7_gma_0.5_wDK_0.01\n",
      "Starting epochs\n",
      "Epoch: 1 of 30\n",
      "Test Loss: 1.3871 TestAcc: 0.4653\n",
      "Epoch: 2 of 30\n",
      "Test Loss: 1.3021 TestAcc: 0.4851\n",
      "Epoch: 3 of 30\n",
      "Test Loss: 1.3605 TestAcc: 0.5332\n",
      "Epoch: 4 of 30\n",
      "Test Loss: 1.6535 TestAcc: 0.4554\n",
      "Epoch: 5 of 30\n",
      "Test Loss: 1.4853 TestAcc: 0.5219\n",
      "Epoch: 6 of 30\n",
      "Test Loss: 1.7290 TestAcc: 0.5248\n",
      "Epoch: 7 of 30\n",
      "Test Loss: 1.8280 TestAcc: 0.4922\n",
      "Epoch: 8 of 30\n",
      "Test Loss: 1.7196 TestAcc: 0.5177\n",
      "Epoch: 9 of 30\n",
      "Test Loss: 1.8611 TestAcc: 0.5078\n",
      "Epoch: 10 of 30\n",
      "Test Loss: 1.8596 TestAcc: 0.5375\n",
      "Epoch: 11 of 30\n",
      "Test Loss: 1.8543 TestAcc: 0.5191\n",
      "Epoch: 12 of 30\n",
      "Test Loss: 2.0441 TestAcc: 0.5361\n",
      "Epoch: 13 of 30\n",
      "Test Loss: 2.0835 TestAcc: 0.5149\n",
      "Epoch: 14 of 30\n",
      "Test Loss: 2.0249 TestAcc: 0.5403\n",
      "Epoch: 15 of 30\n",
      "Test Loss: 1.9316 TestAcc: 0.5290\n",
      "Epoch: 16 of 30\n",
      "Test Loss: 1.9073 TestAcc: 0.5502\n",
      "Epoch: 17 of 30\n",
      "Test Loss: 1.8965 TestAcc: 0.5290\n",
      "Epoch: 18 of 30\n",
      "Test Loss: 1.9039 TestAcc: 0.5446\n",
      "Epoch: 19 of 30\n",
      "Test Loss: 1.9085 TestAcc: 0.5431\n",
      "Epoch: 20 of 30\n",
      "Test Loss: 1.9731 TestAcc: 0.5516\n",
      "Epoch: 21 of 30\n",
      "Test Loss: 1.9465 TestAcc: 0.5587\n",
      "Epoch: 22 of 30\n",
      "Test Loss: 1.9102 TestAcc: 0.5530\n",
      "Epoch: 23 of 30\n",
      "Test Loss: 1.8760 TestAcc: 0.5474\n",
      "Epoch: 24 of 30\n",
      "Test Loss: 1.8177 TestAcc: 0.5474\n",
      "Epoch: 25 of 30\n",
      "Test Loss: 1.8676 TestAcc: 0.5488\n",
      "Epoch: 26 of 30\n",
      "Test Loss: 1.8511 TestAcc: 0.5545\n",
      "Epoch: 27 of 30\n",
      "Test Loss: 1.8288 TestAcc: 0.5658\n",
      "Epoch: 28 of 30\n",
      "Test Loss: 1.8342 TestAcc: 0.5728\n",
      "Epoch: 29 of 30\n",
      "Test Loss: 1.8008 TestAcc: 0.5700\n",
      "Epoch: 30 of 30\n",
      "Test Loss: 1.8195 TestAcc: 0.5431\n",
      "Training complete in 31m 40s\n",
      "Experiment 20210112-004204_D_lr_0.0001_st_7_gma_0.5_wDK_0.01 - testing on the women domain\n",
      "Test Loss: 1.8195 TestAcc: 0.5431\n",
      "Test accuracy: 0.5431\n",
      "Test Loss: 3.0165 TestAcc: 0.4340\n",
      "Test accuracy: 0.4340\n",
      "{'p3M': 0.5431400282885431, 'p3F': 0.4339622641509434}\n",
      "Finished -----------------\n",
      "\n",
      "\n"
     ]
    }
   ],
   "source": [
    "NUM_EPOCHS = 30\n",
    "\n",
    "def run_experiment(use_discriminator, experiment_title, domain1_dataloader,domain2_dataloader, test_dataloaders, training_params, architecure : NET_ARCHICECTURE):\n",
    "    \"\"\"\n",
    "    Gets all hyper parameters and creates the relevant optimizer and scheduler according to those params\n",
    "\n",
    "    \"\"\"\n",
    "\n",
    "    training_params.model = get_model(device,domain1_dataloader.classes, architecure)\n",
    "    \n",
    "    descriminator_description = \"D\" if use_discriminator else \"ND\"\n",
    "    experiment_name = datetime.now().strftime(\"%Y%m%d-%H%M%S\") + \"_\"+ descriminator_description + str(training_params)\n",
    "    print(\"Starting, experiment name: \", experiment_name)\n",
    "\n",
    "    writer = SummaryWriter('runs/' + experiment_name)\n",
    "    trainer = Trainer(device, domain1_dataloader, domain2_dataloader, BATCH_SIZE)\n",
    "    \n",
    "    trained_params_model = trainer.train_model(use_discriminator, training_params, writer=writer)\n",
    "    \n",
    "    print(f\"Experiment {experiment_name} - testing on the women domain\")\n",
    "    test_acc = {experiment_title+loader_title : trainer.test(test_loader,trained_params_model) for loader_title,test_loader in test_dataloaders.items()}\n",
    "    return trained_params_model, test_acc\n",
    "\n",
    "\n",
    "# for lr in [0.001, 0.0005, 0.0001]:\n",
    "#     for scheduler_step_size in [7]:\n",
    "#         for scheduler_gamma in [0.3, 0.5]:\n",
    "#             for weight_decay in [0.01,0.05,0.1]:\n",
    "#                 model_conv = run_experiment(dataloder_male,dataloder_female, lr, scheduler_gamma, scheduler_step_size, weight_decay, NUM_EPOCHS,'fc_20+50_DO')\n",
    "\n",
    "\n",
    "# trained_model_and_params = run_experiment(dropout_layer=NET_ARCHICECTURE.TWO_FC, domain1_dataloader=dataloder_male,domain2_dataloader=dataloder_female, lr_initial=0.0001, gamma=0.5, step_size=7, weight_decay=0.01 , num_of_epochs=10,experiment_note='final_tuning')\n",
    "training_params = TrainingParams(lr_initial=0.0001,step_size=7,gamma=0.5,weight_decay=0.01, num_epochs=NUM_EPOCHS)\n",
    "\n",
    "# trained_model_and_params = run_experiment(use_discriminator=False, \\\n",
    "#                                           domain1_dataloader=dataloader_all,domain2_dataloader=dataloader_all, test_dataloader = dataloader_all,\\\n",
    "#                                           training_params,experiment_note='no_discriminator')\n",
    "\"\"\" Train on both genders w\\o discriminator and test spretley on the genders\"\"\"\n",
    "\n",
    "arch = NET_ARCHICECTURE.ONE_FC\n",
    "test_loaders = {\"M\" : dataloder_male,\n",
    "                \"F\" : dataloder_female}\n",
    "\n",
    "print(\"1st case: Train on both genders w\\o discriminator and test separately on the genders\")\n",
    "_,p1 = run_experiment(use_discriminator=False, experiment_title = \"p1\",\\\n",
    "                       domain1_dataloader=dataloader_all,domain2_dataloader=dataloader_all,\\\n",
    "                       test_dataloaders = test_loaders,training_params=training_params, architecure=arch)\n",
    "print(p1)\n",
    "print(\"Finished -----------------\\r\\n\\r\\n\")\n",
    "\n",
    "print(\"2nd case: Train on one gender w\\o discriminator and test separately on the genders\")\n",
    "_,p2 = run_experiment(use_discriminator=False, experiment_title = \"p2\", \\\n",
    "                       domain1_dataloader=dataloder_male,domain2_dataloader=dataloder_female, \\\n",
    "                       test_dataloaders = test_loaders,training_params=training_params,architecure=arch)\n",
    "print(p2)\n",
    "print(\"Finished -----------------\\r\\n\\r\\n\")\n",
    "\n",
    "print(\"3rd case: Train on one gender with discriminator and test separately on the genders\")\n",
    "_,p3 = run_experiment(use_discriminator=True, experiment_title = \"p3\", \\\n",
    "                       domain1_dataloader=dataloder_male,domain2_dataloader=dataloder_female, \\\n",
    "                       test_dataloaders = test_loaders,training_params=training_params,architecure=arch)\n",
    "print(p3)\n",
    "print(\"Finished -----------------\\r\\n\\r\\n\")\n",
    "# print(f\"p1(M): {p1M} p1(F): {p1F}\")\n",
    "# print(f\"p2(M): {p2M} p2(F): {p2F}\")\n",
    "# print(f\"p3(M): {p3M} p3(F): {p3F}\")\n",
    "\n",
    "# print(f\"p1(M): {p1M} p1(F): {p1F} p2(M): {p2M} p2(F): {p2F} p3(M): {p3M} p3(F): {p3F}\")\n",
    "# trained_model_and_params, test_acc = run_experiment(use_discriminator=False, \\\n",
    "#                                           domain1_dataloader=dataloder_male,domain2_dataloader=dataloder_male, test_dataloader = dataloder_male,training_params=training_params)\n",
    "\n",
    "# trained_model_and_params = run_experiment(dropout_layer=NET_ARCHICECTURE.TWO_FC, domain1_dataloader=dataloder_male,domain2_dataloader=dataloder_female, lr_initial=0.0001, gamma=0.5, step_size=7, weight_decay=0.01 , num_of_epochs=NUM_EPOCHS,experiment_note='final_tuning')\n",
    "# trained_model_and_params = run_experiment(dropout_layer=NET_ARCHICECTURE.NO_FC, domain1_dataloader=dataloder_male,domain2_dataloader=dataloder_female, lr_initial=0.0001, gamma=0.5, step_size=7, weight_decay=0.1, num_of_epochs=NUM_EPOCHS,experiment_note='final_tuning')\n",
    "# trained_model_and_params = run_experiment(dropout_layer=NET_ARCHICECTURE.ONE_FC, domain1_dataloader=dataloder_male,domain2_dataloader=dataloder_female, lr_initial=0.0001, gamma=0.5, step_size=7, weight_decay=0.1, num_of_epochs=NUM_EPOCHS,experiment_note='final_tuning')\n"
   ]
  },
  {
   "cell_type": "code",
   "execution_count": 11,
   "metadata": {
    "colab": {},
    "colab_type": "code",
    "id": "C3WHcYME2huF"
   },
   "outputs": [],
   "source": [
    "# torch.save({'model_state_dict': model_conv.state_dict(),\n",
    "#             'optimizer_state_dict': optimizer_conv.state_dict(),\n",
    "#             'best_val_loss': best_val_loss,\n",
    "#             'best_val_accuracy': best_val_acc,\n",
    "#             'scheduler_state_dict' : exp_lr_scheduler.state_dict(),\n",
    "#             }, CHECK_POINT_PATH)"
   ]
  },
  {
   "cell_type": "markdown",
   "metadata": {
    "colab_type": "text",
    "id": "rQuhWHVqVJE_"
   },
   "source": [
    "# Test Model"
   ]
  }
 ],
 "metadata": {
  "accelerator": "GPU",
  "colab": {
   "collapsed_sections": [],
   "name": "NetWithDataLoader.ipynb",
   "provenance": []
  },
  "hide_input": false,
  "kernelspec": {
   "display_name": "Python 3",
   "language": "python",
   "name": "python3"
  },
  "language_info": {
   "codemirror_mode": {
    "name": "ipython",
    "version": 3
   },
   "file_extension": ".py",
   "mimetype": "text/x-python",
   "name": "python",
   "nbconvert_exporter": "python",
   "pygments_lexer": "ipython3",
   "version": "3.7.7"
  },
  "output_auto_scroll": false,
  "varInspector": {
   "cols": {
    "lenName": 16,
    "lenType": 16,
    "lenVar": 40
   },
   "kernels_config": {
    "python": {
     "delete_cmd_postfix": "",
     "delete_cmd_prefix": "del ",
     "library": "var_list.py",
     "varRefreshCmd": "print(var_dic_list())"
    },
    "r": {
     "delete_cmd_postfix": ") ",
     "delete_cmd_prefix": "rm(",
     "library": "var_list.r",
     "varRefreshCmd": "cat(var_dic_list()) "
    }
   },
   "types_to_exclude": [
    "module",
    "function",
    "builtin_function_or_method",
    "instance",
    "_Feature"
   ],
   "window_display": false
  },
  "widgets": {
   "application/vnd.jupyter.widget-state+json": {
    "08e0b965fc614feb960cf954223db3e3": {
     "model_module": "@jupyter-widgets/base",
     "model_name": "LayoutModel",
     "state": {
      "_model_module": "@jupyter-widgets/base",
      "_model_module_version": "1.2.0",
      "_model_name": "LayoutModel",
      "_view_count": null,
      "_view_module": "@jupyter-widgets/base",
      "_view_module_version": "1.2.0",
      "_view_name": "LayoutView",
      "align_content": null,
      "align_items": null,
      "align_self": null,
      "border": null,
      "bottom": null,
      "display": null,
      "flex": null,
      "flex_flow": null,
      "grid_area": null,
      "grid_auto_columns": null,
      "grid_auto_flow": null,
      "grid_auto_rows": null,
      "grid_column": null,
      "grid_gap": null,
      "grid_row": null,
      "grid_template_areas": null,
      "grid_template_columns": null,
      "grid_template_rows": null,
      "height": null,
      "justify_content": null,
      "justify_items": null,
      "left": null,
      "margin": null,
      "max_height": null,
      "max_width": null,
      "min_height": null,
      "min_width": null,
      "object_fit": null,
      "object_position": null,
      "order": null,
      "overflow": null,
      "overflow_x": null,
      "overflow_y": null,
      "padding": null,
      "right": null,
      "top": null,
      "visibility": null,
      "width": null
     }
    },
    "2e81eb8a8cdb40738fb85ce51cfed6c7": {
     "model_module": "@jupyter-widgets/controls",
     "model_name": "HTMLModel",
     "state": {
      "_dom_classes": [],
      "_model_module": "@jupyter-widgets/controls",
      "_model_module_version": "1.5.0",
      "_model_name": "HTMLModel",
      "_view_count": null,
      "_view_module": "@jupyter-widgets/controls",
      "_view_module_version": "1.5.0",
      "_view_name": "HTMLView",
      "description": "",
      "description_tooltip": null,
      "layout": "IPY_MODEL_08e0b965fc614feb960cf954223db3e3",
      "placeholder": "​",
      "style": "IPY_MODEL_6d2c8e3068854041be63a92194b35a64",
      "value": " 44.7M/44.7M [11:04&lt;00:00, 70.5kB/s]"
     }
    },
    "3876f5ef3ff947b7b26c72b6512166f8": {
     "model_module": "@jupyter-widgets/controls",
     "model_name": "HBoxModel",
     "state": {
      "_dom_classes": [],
      "_model_module": "@jupyter-widgets/controls",
      "_model_module_version": "1.5.0",
      "_model_name": "HBoxModel",
      "_view_count": null,
      "_view_module": "@jupyter-widgets/controls",
      "_view_module_version": "1.5.0",
      "_view_name": "HBoxView",
      "box_style": "",
      "children": [
       "IPY_MODEL_fa2dc4675ff940b48a90425981eb55a6",
       "IPY_MODEL_2e81eb8a8cdb40738fb85ce51cfed6c7"
      ],
      "layout": "IPY_MODEL_79f9ecfbdd9a4871b95ae9668720c847"
     }
    },
    "6d2c8e3068854041be63a92194b35a64": {
     "model_module": "@jupyter-widgets/controls",
     "model_name": "DescriptionStyleModel",
     "state": {
      "_model_module": "@jupyter-widgets/controls",
      "_model_module_version": "1.5.0",
      "_model_name": "DescriptionStyleModel",
      "_view_count": null,
      "_view_module": "@jupyter-widgets/base",
      "_view_module_version": "1.2.0",
      "_view_name": "StyleView",
      "description_width": ""
     }
    },
    "79f9ecfbdd9a4871b95ae9668720c847": {
     "model_module": "@jupyter-widgets/base",
     "model_name": "LayoutModel",
     "state": {
      "_model_module": "@jupyter-widgets/base",
      "_model_module_version": "1.2.0",
      "_model_name": "LayoutModel",
      "_view_count": null,
      "_view_module": "@jupyter-widgets/base",
      "_view_module_version": "1.2.0",
      "_view_name": "LayoutView",
      "align_content": null,
      "align_items": null,
      "align_self": null,
      "border": null,
      "bottom": null,
      "display": null,
      "flex": null,
      "flex_flow": null,
      "grid_area": null,
      "grid_auto_columns": null,
      "grid_auto_flow": null,
      "grid_auto_rows": null,
      "grid_column": null,
      "grid_gap": null,
      "grid_row": null,
      "grid_template_areas": null,
      "grid_template_columns": null,
      "grid_template_rows": null,
      "height": null,
      "justify_content": null,
      "justify_items": null,
      "left": null,
      "margin": null,
      "max_height": null,
      "max_width": null,
      "min_height": null,
      "min_width": null,
      "object_fit": null,
      "object_position": null,
      "order": null,
      "overflow": null,
      "overflow_x": null,
      "overflow_y": null,
      "padding": null,
      "right": null,
      "top": null,
      "visibility": null,
      "width": null
     }
    },
    "966b7f8371654dd2a54f484c4a9c0129": {
     "model_module": "@jupyter-widgets/controls",
     "model_name": "ProgressStyleModel",
     "state": {
      "_model_module": "@jupyter-widgets/controls",
      "_model_module_version": "1.5.0",
      "_model_name": "ProgressStyleModel",
      "_view_count": null,
      "_view_module": "@jupyter-widgets/base",
      "_view_module_version": "1.2.0",
      "_view_name": "StyleView",
      "bar_color": null,
      "description_width": "initial"
     }
    },
    "a315579ab89f43e2b7d184c7c4d64baa": {
     "model_module": "@jupyter-widgets/base",
     "model_name": "LayoutModel",
     "state": {
      "_model_module": "@jupyter-widgets/base",
      "_model_module_version": "1.2.0",
      "_model_name": "LayoutModel",
      "_view_count": null,
      "_view_module": "@jupyter-widgets/base",
      "_view_module_version": "1.2.0",
      "_view_name": "LayoutView",
      "align_content": null,
      "align_items": null,
      "align_self": null,
      "border": null,
      "bottom": null,
      "display": null,
      "flex": null,
      "flex_flow": null,
      "grid_area": null,
      "grid_auto_columns": null,
      "grid_auto_flow": null,
      "grid_auto_rows": null,
      "grid_column": null,
      "grid_gap": null,
      "grid_row": null,
      "grid_template_areas": null,
      "grid_template_columns": null,
      "grid_template_rows": null,
      "height": null,
      "justify_content": null,
      "justify_items": null,
      "left": null,
      "margin": null,
      "max_height": null,
      "max_width": null,
      "min_height": null,
      "min_width": null,
      "object_fit": null,
      "object_position": null,
      "order": null,
      "overflow": null,
      "overflow_x": null,
      "overflow_y": null,
      "padding": null,
      "right": null,
      "top": null,
      "visibility": null,
      "width": null
     }
    },
    "fa2dc4675ff940b48a90425981eb55a6": {
     "model_module": "@jupyter-widgets/controls",
     "model_name": "IntProgressModel",
     "state": {
      "_dom_classes": [],
      "_model_module": "@jupyter-widgets/controls",
      "_model_module_version": "1.5.0",
      "_model_name": "IntProgressModel",
      "_view_count": null,
      "_view_module": "@jupyter-widgets/controls",
      "_view_module_version": "1.5.0",
      "_view_name": "ProgressView",
      "bar_style": "success",
      "description": "100%",
      "description_tooltip": null,
      "layout": "IPY_MODEL_a315579ab89f43e2b7d184c7c4d64baa",
      "max": 46827520,
      "min": 0,
      "orientation": "horizontal",
      "style": "IPY_MODEL_966b7f8371654dd2a54f484c4a9c0129",
      "value": 46827520
     }
    }
   }
  }
 },
 "nbformat": 4,
 "nbformat_minor": 4
}
