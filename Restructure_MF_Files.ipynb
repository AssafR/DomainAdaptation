{
 "cells": [
  {
   "cell_type": "code",
   "execution_count": 14,
   "metadata": {},
   "outputs": [],
   "source": [
    "import os\n",
    "import shutil\n",
    "from pathlib import Path\n",
    "import split_folders"
   ]
  },
  {
   "cell_type": "code",
   "execution_count": 6,
   "metadata": {},
   "outputs": [],
   "source": [
    "classes = ['Angry', 'Disgust', 'Fear', 'Happy', 'Neutral', 'Sad', 'Surprise']\n",
    "sexes = {'M':'Male','F':'Female'}\n",
    "srcDir = Path(\"C:\\Labs\") / \"DataWithGender\"\n",
    "dstDir = Path(\"C:\\Labs\") / \"DataDomains\"\n",
    "trainDir = Path(\"C:\\Labs\") / \"DataTraining\""
   ]
  },
  {
   "cell_type": "code",
   "execution_count": 4,
   "metadata": {},
   "outputs": [
    {
     "name": "stdout",
     "output_type": "stream",
     "text": [
      "Total 0 files copied\n"
     ]
    }
   ],
   "source": [
    "for emotion in classes:\n",
    "    for sex in sexes.keys():\n",
    "        new_dir = dstDir / sexes[sex] / emotion\n",
    "        if not new_dir.exists():\n",
    "            new_dir.mkdir(parents=True,exist_ok=True)\n",
    "\n",
    "total=0            \n",
    "for sex in sexes.keys():\n",
    "    for emotion in classes:\n",
    "        dirName = f\"{emotion}_{sex}\"\n",
    "        curr_dir = srcDir / dirName\n",
    "        target_dir = dstDir / sexes[sex] / emotion\n",
    "        for srcFile in curr_dir.iterdir():\n",
    "            targetFile = target_dir/srcFile.name\n",
    "            if not targetFile.exists():\n",
    "                print(\"Copying file \",srcFile.resolve(),\" to \", targetFile.resolve())\n",
    "                shutil.copyfile(srcFile.resolve(), targetFile.resolve(), follow_symlinks=False)\n",
    "                total = total + 1\n",
    "                \n",
    "print(f\"Total {total} files copied\")"
   ]
  },
  {
   "cell_type": "code",
   "execution_count": 18,
   "metadata": {},
   "outputs": [
    {
     "name": "stderr",
     "output_type": "stream",
     "text": [
      "Copying files: 76 files [00:00, 758.07 files/s]"
     ]
    },
    {
     "name": "stdout",
     "output_type": "stream",
     "text": [
      "Current directory is  C:\\Labs\\DataDomains\\Male\n",
      "Target directory is  C:\\Labs\\DataTraining\\Male\n"
     ]
    },
    {
     "name": "stderr",
     "output_type": "stream",
     "text": [
      "Copying files: 1480 files [00:01, 896.02 files/s]\n",
      "Copying files: 82 files [00:00, 819.04 files/s]"
     ]
    },
    {
     "name": "stdout",
     "output_type": "stream",
     "text": [
      "Current directory is  C:\\Labs\\DataDomains\\Female\n",
      "Target directory is  C:\\Labs\\DataTraining\\Female\n"
     ]
    },
    {
     "name": "stderr",
     "output_type": "stream",
     "text": [
      "Copying files: 1617 files [00:01, 934.74 files/s]\n"
     ]
    }
   ],
   "source": [
    "total=0            \n",
    "for sex in sexes.values():\n",
    "    sexTrainDir = trainDir / sex \n",
    "    curr_dir = dstDir / sex\n",
    "    if not curr_dir.exists():\n",
    "        print(f\"Directory {curr_dir} does not exist\")\n",
    "        exit(1)\n",
    "    else:\n",
    "        print(\"Current directory is \",curr_dir)\n",
    "        print(\"Target directory is \",sexTrainDir)\n",
    "\n",
    "    split_folders.ratio(curr_dir, output=sexTrainDir, seed=1337, ratio=(.8, .2)) \n",
    "        "
   ]
  },
  {
   "cell_type": "code",
   "execution_count": null,
   "metadata": {},
   "outputs": [],
   "source": []
  }
 ],
 "metadata": {
  "hide_input": false,
  "kernelspec": {
   "display_name": "Python 3",
   "language": "python",
   "name": "python3"
  },
  "language_info": {
   "codemirror_mode": {
    "name": "ipython",
    "version": 3
   },
   "file_extension": ".py",
   "mimetype": "text/x-python",
   "name": "python",
   "nbconvert_exporter": "python",
   "pygments_lexer": "ipython3",
   "version": "3.7.7"
  }
 },
 "nbformat": 4,
 "nbformat_minor": 4
}
