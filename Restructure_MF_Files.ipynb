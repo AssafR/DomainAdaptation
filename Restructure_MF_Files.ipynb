{
 "cells": [
  {
   "cell_type": "code",
   "execution_count": 35,
   "metadata": {},
   "outputs": [],
   "source": [
    "import os\n",
    "import shutil\n",
    "from pathlib import Path"
   ]
  },
  {
   "cell_type": "code",
   "execution_count": 46,
   "metadata": {},
   "outputs": [],
   "source": [
    "classes = ['Angry', 'Disgust', 'Fear', 'Happy', 'Neutral', 'Sad', 'Surprise']\n",
    "sexes = {'M':'Male','F':'Female'}\n",
    "srcDir = Path(\"C:\\Labs\") / \"DataWithGender\"\n",
    "dstDir = Path(\"C:\\Labs\") / \"DataDomains\""
   ]
  },
  {
   "cell_type": "code",
   "execution_count": 47,
   "metadata": {},
   "outputs": [
    {
     "name": "stdout",
     "output_type": "stream",
     "text": [
      "Wall time: 59.9 ms\n"
     ]
    }
   ],
   "source": [
    "for emotion in classes:\n",
    "    for sex in sexes.keys():\n",
    "        new_dir = dstDir / sexes[sex] / emotion\n",
    "        if not new_dir.exists():\n",
    "            new_dir.mkdir(parents=True,exist_ok=True)\n",
    "\n",
    "for emotion in classes:\n",
    "    for sex in sexes.keys():\n",
    "        dirName = f\"{emotion}_{sex}\"\n",
    "        curr_dir = srcDir / dirName\n",
    "        target_dir = dstDir / sexes[sex] / emotion\n",
    "        for srcFile in curr_dir.iterdir():\n",
    "            targetFile = target_dir/srcFile.name\n",
    "            if not targetFile.exists():\n",
    "                print(\"Moving file \",srcFile.resolve(),\" to \", targetFile.resolve())\n",
    "                shutil.copyfile(srcFile.resolve(), targetFile.resolve(), follow_symlinks=False)\n",
    "        "
   ]
  },
  {
   "cell_type": "code",
   "execution_count": null,
   "metadata": {},
   "outputs": [],
   "source": []
  }
 ],
 "metadata": {
  "hide_input": false,
  "kernelspec": {
   "display_name": "Python 3",
   "language": "python",
   "name": "python3"
  },
  "language_info": {
   "codemirror_mode": {
    "name": "ipython",
    "version": 3
   },
   "file_extension": ".py",
   "mimetype": "text/x-python",
   "name": "python",
   "nbconvert_exporter": "python",
   "pygments_lexer": "ipython3",
   "version": "3.7.7"
  }
 },
 "nbformat": 4,
 "nbformat_minor": 4
}
