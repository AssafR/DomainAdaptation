{
 "cells": [
  {
   "cell_type": "code",
   "execution_count": null,
   "metadata": {},
   "outputs": [],
   "source": [
    "class NET_ARCHICECTURE(Enum):\n",
    "    NO_FC = 0\n",
    "    ONE_FC = 1\n",
    "    TWO_FC = 2"
   ]
  },
  {
   "cell_type": "code",
   "execution_count": null,
   "metadata": {},
   "outputs": [],
   "source": [
    "def get_model(class_names, architecure : NET_ARCHICECTURE):\n",
    "    model_conv = models.resnet18(pretrained=True)\n",
    "    #model_conv = models.resnet50(pretrained=True)\n",
    "    #model_conv = models.resnet101(pretrained=True)    \n",
    "    \n",
    "    DROPOUT_PROB = 0.5\n",
    "    \n",
    "    num_ftrs = model_conv.fc.in_features #The size of feature extractor output\n",
    "\n",
    "    if architecure == NET_ARCHICECTURE.NO_FC:\n",
    "        new_lin = nn.Linear(num_ftrs, len(class_names))\n",
    "    elif architecure == NET_ARCHICECTURE.ONE_FC:\n",
    "        new_lin = nn.Sequential(\n",
    "            nn.Linear(num_ftrs, 64),\n",
    "            nn.ReLU(),\n",
    "            nn.Dropout(DROPOUT_PROB),\n",
    "            nn.Linear(64, len(class_names))\n",
    "        )\n",
    "    elif architecure == NET_ARCHICECTURE.TWO_FC:\n",
    "        new_lin = nn.Sequential(\n",
    "            nn.Linear(num_ftrs, 50),\n",
    "            nn.ReLU(),\n",
    "            nn.Dropout(DROPOUT_PROB),\n",
    "            nn.Linear(50, 20),\n",
    "            nn.ReLU(),\n",
    "            nn.Dropout(DROPOUT_PROB),\n",
    "            nn.Linear(20, len(class_names))\n",
    "        )\n",
    "    else:\n",
    "        raise Exception(f\"Value {architecure} illegal\")\n",
    "        \n",
    "    model_conv.fc = new_lin\n",
    "\n",
    "    model_conv.avgpool.activation = {}\n",
    "    \n",
    "    def get_activation(name):\n",
    "        def hook(model, input, output):\n",
    "            model.activation[name] = output #.detach()\n",
    "        return hook\n",
    "\n",
    "    model_conv.avgpool.register_forward_hook(get_activation('avgpool'))\n",
    "    \n",
    "    model_conv.discriminator = nn.Sequential(\n",
    "        GradientReversal(),\n",
    "        nn.Linear(num_ftrs, 50),\n",
    "        nn.ReLU(),\n",
    "        nn.Linear(50, 20),\n",
    "        nn.ReLU(),\n",
    "        nn.Linear(20, 1)\n",
    "    ).to(device)\n",
    "    \n",
    "    model_conv = model_conv.to(device)\n",
    "    return model_conv"
   ]
  }
 ],
 "metadata": {
  "hide_input": false,
  "kernelspec": {
   "display_name": "Python 3",
   "language": "python",
   "name": "python3"
  },
  "language_info": {
   "codemirror_mode": {
    "name": "ipython",
    "version": 3
   },
   "file_extension": ".py",
   "mimetype": "text/x-python",
   "name": "python",
   "nbconvert_exporter": "python",
   "pygments_lexer": "ipython3",
   "version": "3.7.7"
  }
 },
 "nbformat": 4,
 "nbformat_minor": 4
}
