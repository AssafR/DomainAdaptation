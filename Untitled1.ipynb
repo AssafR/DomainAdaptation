{
 "cells": [
  {
   "cell_type": "code",
   "execution_count": 1,
   "metadata": {},
   "outputs": [],
   "source": [
    "import torch\n",
    "import pandas as pd\n",
    "from typing import List\n",
    "%matplotlib inline\n",
    "import tkinter\n",
    "import matplotlib.pyplot as plt"
   ]
  },
  {
   "cell_type": "code",
   "execution_count": 2,
   "metadata": {},
   "outputs": [
    {
     "name": "stdout",
     "output_type": "stream",
     "text": [
      "tensor([1., 0., 0., 0., 0., 0., 0., 0., 0., 1., 0., 0., 0., 1., 0., 1.],\n",
      "       dtype=torch.float64)\n"
     ]
    }
   ],
   "source": [
    "t1 = torch.tensor([1, 0, 0, 0, 1, 0, 0, 1, 0, 1, 0, 1, 0, 0, 0, 1]).double()\n",
    "t2 = torch.tensor([1, 0, 0, 1, 0, 0, 0, 1, 0, 0, 0, 0, 1, 0, 0, 1]).double()\n",
    "t3 = torch.rand(len(t1)).double() - 0.5\n",
    "\n",
    "sig = torch.sigmoid(t3).double()\n",
    "p = (sig>0.5).double()\n",
    "print(p)"
   ]
  },
  {
   "cell_type": "code",
   "execution_count": 3,
   "metadata": {},
   "outputs": [
    {
     "data": {
      "text/html": [
       "<div>\n",
       "<style scoped>\n",
       "    .dataframe tbody tr th:only-of-type {\n",
       "        vertical-align: middle;\n",
       "    }\n",
       "\n",
       "    .dataframe tbody tr th {\n",
       "        vertical-align: top;\n",
       "    }\n",
       "\n",
       "    .dataframe thead th {\n",
       "        text-align: right;\n",
       "    }\n",
       "</style>\n",
       "<table border=\"1\" class=\"dataframe\">\n",
       "  <thead>\n",
       "    <tr style=\"text-align: right;\">\n",
       "      <th></th>\n",
       "      <th>Target</th>\n",
       "      <th>Pred</th>\n",
       "      <th>Output</th>\n",
       "    </tr>\n",
       "  </thead>\n",
       "  <tbody>\n",
       "    <tr>\n",
       "      <th>0</th>\n",
       "      <td>1</td>\n",
       "      <td>1</td>\n",
       "      <td>0.273957</td>\n",
       "    </tr>\n",
       "    <tr>\n",
       "      <th>1</th>\n",
       "      <td>0</td>\n",
       "      <td>0</td>\n",
       "      <td>-0.230547</td>\n",
       "    </tr>\n",
       "    <tr>\n",
       "      <th>2</th>\n",
       "      <td>0</td>\n",
       "      <td>0</td>\n",
       "      <td>-0.339956</td>\n",
       "    </tr>\n",
       "    <tr>\n",
       "      <th>3</th>\n",
       "      <td>0</td>\n",
       "      <td>1</td>\n",
       "      <td>-0.165950</td>\n",
       "    </tr>\n",
       "    <tr>\n",
       "      <th>4</th>\n",
       "      <td>1</td>\n",
       "      <td>0</td>\n",
       "      <td>-0.191422</td>\n",
       "    </tr>\n",
       "    <tr>\n",
       "      <th>5</th>\n",
       "      <td>0</td>\n",
       "      <td>0</td>\n",
       "      <td>-0.316266</td>\n",
       "    </tr>\n",
       "    <tr>\n",
       "      <th>6</th>\n",
       "      <td>0</td>\n",
       "      <td>0</td>\n",
       "      <td>-0.047159</td>\n",
       "    </tr>\n",
       "    <tr>\n",
       "      <th>7</th>\n",
       "      <td>1</td>\n",
       "      <td>1</td>\n",
       "      <td>-0.279456</td>\n",
       "    </tr>\n",
       "    <tr>\n",
       "      <th>8</th>\n",
       "      <td>0</td>\n",
       "      <td>0</td>\n",
       "      <td>-0.223530</td>\n",
       "    </tr>\n",
       "    <tr>\n",
       "      <th>9</th>\n",
       "      <td>1</td>\n",
       "      <td>0</td>\n",
       "      <td>0.022390</td>\n",
       "    </tr>\n",
       "    <tr>\n",
       "      <th>10</th>\n",
       "      <td>0</td>\n",
       "      <td>0</td>\n",
       "      <td>-0.032064</td>\n",
       "    </tr>\n",
       "    <tr>\n",
       "      <th>11</th>\n",
       "      <td>1</td>\n",
       "      <td>0</td>\n",
       "      <td>-0.051748</td>\n",
       "    </tr>\n",
       "    <tr>\n",
       "      <th>12</th>\n",
       "      <td>0</td>\n",
       "      <td>1</td>\n",
       "      <td>-0.153541</td>\n",
       "    </tr>\n",
       "    <tr>\n",
       "      <th>13</th>\n",
       "      <td>0</td>\n",
       "      <td>0</td>\n",
       "      <td>0.225699</td>\n",
       "    </tr>\n",
       "    <tr>\n",
       "      <th>14</th>\n",
       "      <td>0</td>\n",
       "      <td>0</td>\n",
       "      <td>-0.301374</td>\n",
       "    </tr>\n",
       "    <tr>\n",
       "      <th>15</th>\n",
       "      <td>1</td>\n",
       "      <td>1</td>\n",
       "      <td>0.032018</td>\n",
       "    </tr>\n",
       "  </tbody>\n",
       "</table>\n",
       "</div>"
      ],
      "text/plain": [
       "    Target  Pred    Output\n",
       "0        1     1  0.273957\n",
       "1        0     0 -0.230547\n",
       "2        0     0 -0.339956\n",
       "3        0     1 -0.165950\n",
       "4        1     0 -0.191422\n",
       "5        0     0 -0.316266\n",
       "6        0     0 -0.047159\n",
       "7        1     1 -0.279456\n",
       "8        0     0 -0.223530\n",
       "9        1     0  0.022390\n",
       "10       0     0 -0.032064\n",
       "11       1     0 -0.051748\n",
       "12       0     1 -0.153541\n",
       "13       0     0  0.225699\n",
       "14       0     0 -0.301374\n",
       "15       1     1  0.032018"
      ]
     },
     "metadata": {},
     "output_type": "display_data"
    }
   ],
   "source": [
    "def display_tensors_together(t1,t2,t3):\n",
    "    t1_df = pd.Series(t1,name='t1').astype('int')\n",
    "#     t2_df = pd.DataFrame(t2,columns=['t2']).astype('float')\n",
    "    t2_df = pd.Series(t2,name='t2').astype('double')\n",
    "    display(t1_df)\n",
    "    display(t2_df)\n",
    "    t3_df = pd.concat([t1_df,t2_df],axis=1)\n",
    "    display(t3_df)\n",
    "    all = torch.cat([t1,t2,t3],dim=0).reshape(3,len(t1)).T\n",
    "    all_df = pd.DataFrame(all).astype(\"float\")\n",
    "    return all_df\n",
    "\n",
    "#all = torch.cat([t1.double(),t2.double(),t3.double()],dim=0)\n",
    "\n",
    "def tensors_to_dataframe(tensors:List):\n",
    "    list_of_series_from_tensors = []\n",
    "    for tensor,column_name,tensor_type in tensors:\n",
    "        series = pd.Series(tensor,name=column_name).astype(tensor_type)\n",
    "        list_of_series_from_tensors.append(series)\n",
    "    full_df = pd.concat(list_of_series_from_tensors,axis=1)\n",
    "    return full_df\n",
    "\n",
    "\n",
    "display_df = tensors_to_dataframe([[t1,'Target','int'],[t2,'Pred','int'],[t3,'Output','float']])\n",
    "display(display_df)\n",
    "\n"
   ]
  },
  {
   "cell_type": "code",
   "execution_count": 4,
   "metadata": {},
   "outputs": [],
   "source": [
    "def tensors_to_dataframe(tensors:List):\n",
    "    # Each element in list is a triplet: tensor,column_name,tensor_type\n",
    "    list_of_series_from_tensors = []\n",
    "    for tensor,column_name,tensor_type in tensors:\n",
    "        series = pd.Series(tensor.detach().cpu().numpy(),name=column_name).astype(tensor_type)\n",
    "        list_of_series_from_tensors.append(series)\n",
    "    full_df = pd.concat(list_of_series_from_tensors,axis=1)\n",
    "    return full_df\n",
    "\n",
    "def convert_target_and_prediction_to_list_of_values_dict(df,output_column_name):\n",
    "    compared_results_columns = ['Label','Prediction']\n",
    "#     print(\"df=\")\n",
    "#     print(df)\n",
    "#     print(df[compared_results_columns])\n",
    "    compared_results_values = df[compared_results_columns].drop_duplicates(keep='first')\n",
    "#     print(\"compared_results_values=\",compared_results_values)\n",
    "    grouped = df.groupby(compared_results_columns)\n",
    "    values_by_index_as_list = grouped.agg({output_column_name:lambda x:list(x)})\n",
    "#     print(\"values_by_index_as_list=\",values_by_index_as_list)\n",
    "    results_index = values_by_index_as_list.index.values\n",
    "#     print(\"results_index=\",results_index)\n",
    "    new_results_index = [f'{compared_results_columns[0]}:{t},{compared_results_columns[1]}:{p}' for t,p in results_index]\n",
    "#     print(\"new_results_index=\",new_results_index)\n",
    "    values_by_index_as_list.index = new_results_index\n",
    "    return values_by_index_as_list[output_column_name].to_dict()\n",
    "   \n",
    "def update_sigmoid_value_dct(current,update):\n",
    "    for update_key, update_list in update.items():\n",
    "        current[update_key] =  current.get(update_key,[]) + update_list\n",
    "    return current\n",
    "\n",
    "\n"
   ]
  },
  {
   "cell_type": "code",
   "execution_count": 58,
   "metadata": {},
   "outputs": [
    {
     "name": "stdout",
     "output_type": "stream",
     "text": [
      "Populating the interactive namespace from numpy and matplotlib\n"
     ]
    },
    {
     "data": {
      "image/png": "[encoded data removed]",
      "text/plain": [
       "<Figure size 1440x360 with 4 Axes>"
      ]
     },
     "metadata": {
      "needs_background": "light"
     },
     "output_type": "display_data"
    },
    {
     "data": {
      "image/png": "[encoded data removed]",
      "text/plain": [
       "<Figure size 1440x360 with 4 Axes>"
      ]
     },
     "metadata": {
      "needs_background": "light"
     },
     "output_type": "display_data"
    },
    {
     "data": {
      "image/png": "[encoded data removed]",
      "text/plain": [
       "<Figure size 1440x360 with 4 Axes>"
      ]
     },
     "metadata": {
      "needs_background": "light"
     },
     "output_type": "display_data"
    },
    {
     "data": {
      "image/png": "[encoded data removed]",
      "text/plain": [
       "<Figure size 1440x360 with 4 Axes>"
      ]
     },
     "metadata": {
      "needs_background": "light"
     },
     "output_type": "display_data"
    }
   ],
   "source": [
    "%matplotlib inline\n",
    "%pylab inline\n",
    "\n",
    "sigmoid_values_by_result_per_epoch = []\n",
    "\n",
    "def display_histogram_for_options(epoch,values_dct):\n",
    "    fig, axs = plt.subplots(1,4,figsize=(20,5),sharex=True, sharey=True)\n",
    "    fig.suptitle(f'Epoch: {epoch}')\n",
    "    for i,key in enumerate(sorted(values_dct.keys())):\n",
    "        no_bins = 20    \n",
    "        axs[i].hist(values_dct[key],arange(0,1,1/no_bins),label=key, histtype='bar')\n",
    "        axs[i].text(x=0.5, y=0.9, s=key,fontsize=18, horizontalalignment='center', verticalalignment='center',\n",
    "               transform=axs[i].transAxes)\n",
    "    plt.show()\n",
    "    \n",
    "for epoch in range(0,4):\n",
    "    sigmoid_values_by_result_dct = {}\n",
    "    for batch in range(0,3):\n",
    "        outputs = 10*(torch.rand(len(t1)).double() - 0.5)\n",
    "        sigmoid_outputs = torch.sigmoid(outputs).double()\n",
    "        preds = (sig>0.5).double()\n",
    "        sample_results = tensors_to_dataframe([\n",
    "                    [t1,'Label','int'],[t2,'Output','float'],\n",
    "                    [sigmoid_outputs,'Sigmoid','float'],[preds,'Prediction','int']])\n",
    "        values_by_index_as_lists_dct = convert_target_and_prediction_to_list_of_values_dict(sample_results,'Sigmoid')\n",
    "        sigmoid_values_by_result_dct = update_sigmoid_value_dct(sigmoid_values_by_result_dct,values_by_index_as_lists_dct)\n",
    "    display_histogram_for_options(epoch,sigmoid_values_by_result_dct)\n",
    "    #Back to epoch\n",
    "\n",
    "        \n",
    "\n",
    "\n",
    "# g = display_df.groupby(by=['Target','Pred'])\n",
    "# g_list = g.agg({'Output':lambda x:list(x)})\n",
    "\n",
    "# a = g.loc[(0,0),'Output']\n",
    "# plt.hist(values, num_bins)\n",
    "\n",
    "# for name, group in g:\n",
    "#     group.plot()"
   ]
  },
  {
   "cell_type": "code",
   "execution_count": 50,
   "metadata": {},
   "outputs": [
    {
     "data": {
      "text/plain": [
       "[0.0,\n",
       " 0.05,\n",
       " 0.1,\n",
       " 0.15000000000000002,\n",
       " 0.2,\n",
       " 0.25,\n",
       " 0.30000000000000004,\n",
       " 0.35000000000000003,\n",
       " 0.4,\n",
       " 0.45,\n",
       " 0.5,\n",
       " 0.55,\n",
       " 0.6000000000000001,\n",
       " 0.65,\n",
       " 0.7000000000000001,\n",
       " 0.75,\n",
       " 0.8,\n",
       " 0.8500000000000001,\n",
       " 0.9,\n",
       " 0.9500000000000001]"
      ]
     },
     "execution_count": 50,
     "metadata": {},
     "output_type": "execute_result"
    }
   ],
   "source": [
    "list(arange(0,1,1/20))"
   ]
  },
  {
   "cell_type": "code",
   "execution_count": null,
   "metadata": {},
   "outputs": [],
   "source": []
  }
 ],
 "metadata": {
  "hide_input": false,
  "kernelspec": {
   "display_name": "Python 3",
   "language": "python",
   "name": "python3"
  },
  "language_info": {
   "codemirror_mode": {
    "name": "ipython",
    "version": 3
   },
   "file_extension": ".py",
   "mimetype": "text/x-python",
   "name": "python",
   "nbconvert_exporter": "python",
   "pygments_lexer": "ipython3",
   "version": "3.7.7"
  }
 },
 "nbformat": 4,
 "nbformat_minor": 4
}
