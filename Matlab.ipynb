{
 "cells": [
  {
   "cell_type": "code",
   "execution_count": 2,
   "metadata": {},
   "outputs": [],
   "source": [
    "from scipy.io import loadmat\n",
    "wiki_annot = loadmat('E:\\wiki.mat')"
   ]
  },
  {
   "cell_type": "code",
   "execution_count": 8,
   "metadata": {},
   "outputs": [
    {
     "data": {
      "text/plain": [
       "array([[(array([[723671, 703186, 711677, ..., 720620, 723893, 713846]]), array([[2009, 1964, 2008, ..., 2013, 2011, 2008]], dtype=uint16), array([[array(['17/10000217_1981-05-05_2009.jpg'], dtype='<U31'),\n",
       "        array(['48/10000548_1925-04-04_1964.jpg'], dtype='<U31'),\n",
       "        array(['12/100012_1948-07-03_2008.jpg'], dtype='<U29'), ...,\n",
       "        array(['09/9998109_1972-12-27_2013.jpg'], dtype='<U30'),\n",
       "        array(['00/9999400_1981-12-13_2011.jpg'], dtype='<U30'),\n",
       "        array(['80/999980_1954-06-11_2008.jpg'], dtype='<U29')]],\n",
       "      dtype=object), array([[1., 1., 1., ..., 1., 1., 0.]]), array([[array(['Sami Jauhojärvi'], dtype='<U15'),\n",
       "        array(['Dettmar Cramer'], dtype='<U14'),\n",
       "        array(['Marc Okrand'], dtype='<U11'), ...,\n",
       "        array(['Michael Wiesinger'], dtype='<U17'),\n",
       "        array(['Johann Grugger'], dtype='<U14'),\n",
       "        array(['Greta Van Susteren'], dtype='<U18')]], dtype=object), array([[array([[111.29109473, 111.29109473, 252.66993082, 252.66993082]]),\n",
       "        array([[252.4833023 , 126.68165115, 354.53192596, 228.73027481]]),\n",
       "        array([[113.52, 169.84, 366.08, 422.4 ]]), ...,\n",
       "        array([[169.88839786,  74.31669472, 235.2534231 , 139.68171997]]),\n",
       "        array([[1, 1, 1, 1]], dtype=uint8),\n",
       "        array([[ 92.72633235,  62.0435549 , 230.12083087, 199.43805342]])]],\n",
       "      dtype=object), array([[4.30096239, 2.6456395 , 4.32932883, ..., 3.49430317,       -inf,\n",
       "        5.48691655]]), array([[       nan, 1.94924791,        nan, ...,        nan,        nan,\n",
       "               nan]]))]],\n",
       "      dtype=[('dob', 'O'), ('photo_taken', 'O'), ('full_path', 'O'), ('gender', 'O'), ('name', 'O'), ('face_location', 'O'), ('face_score', 'O'), ('second_face_score', 'O')])"
      ]
     },
     "execution_count": 8,
     "metadata": {},
     "output_type": "execute_result"
    }
   ],
   "source": [
    "wiki_annot['wiki']"
   ]
  },
  {
   "cell_type": "code",
   "execution_count": 29,
   "metadata": {},
   "outputs": [
    {
     "data": {
      "text/plain": [
       "array([(array([[723671, 703186, 711677, ..., 720620, 723893, 713846]]), array([[2009, 1964, 2008, ..., 2013, 2011, 2008]], dtype=uint16), array([[array(['17/10000217_1981-05-05_2009.jpg'], dtype='<U31'),\n",
       "        array(['48/10000548_1925-04-04_1964.jpg'], dtype='<U31'),\n",
       "        array(['12/100012_1948-07-03_2008.jpg'], dtype='<U29'), ...,\n",
       "        array(['09/9998109_1972-12-27_2013.jpg'], dtype='<U30'),\n",
       "        array(['00/9999400_1981-12-13_2011.jpg'], dtype='<U30'),\n",
       "        array(['80/999980_1954-06-11_2008.jpg'], dtype='<U29')]],\n",
       "      dtype=object), array([[1., 1., 1., ..., 1., 1., 0.]]), array([[array(['Sami Jauhojärvi'], dtype='<U15'),\n",
       "        array(['Dettmar Cramer'], dtype='<U14'),\n",
       "        array(['Marc Okrand'], dtype='<U11'), ...,\n",
       "        array(['Michael Wiesinger'], dtype='<U17'),\n",
       "        array(['Johann Grugger'], dtype='<U14'),\n",
       "        array(['Greta Van Susteren'], dtype='<U18')]], dtype=object), array([[array([[111.29109473, 111.29109473, 252.66993082, 252.66993082]]),\n",
       "        array([[252.4833023 , 126.68165115, 354.53192596, 228.73027481]]),\n",
       "        array([[113.52, 169.84, 366.08, 422.4 ]]), ...,\n",
       "        array([[169.88839786,  74.31669472, 235.2534231 , 139.68171997]]),\n",
       "        array([[1, 1, 1, 1]], dtype=uint8),\n",
       "        array([[ 92.72633235,  62.0435549 , 230.12083087, 199.43805342]])]],\n",
       "      dtype=object), array([[4.30096239, 2.6456395 , 4.32932883, ..., 3.49430317,       -inf,\n",
       "        5.48691655]]), array([[       nan, 1.94924791,        nan, ...,        nan,        nan,\n",
       "               nan]]))],\n",
       "      dtype=[('dob', 'O'), ('photo_taken', 'O'), ('full_path', 'O'), ('gender', 'O'), ('name', 'O'), ('face_location', 'O'), ('face_score', 'O'), ('second_face_score', 'O')])"
      ]
     },
     "execution_count": 29,
     "metadata": {},
     "output_type": "execute_result"
    }
   ],
   "source": [
    "wiki_annot['wiki'][0]"
   ]
  },
  {
   "cell_type": "code",
   "execution_count": 32,
   "metadata": {},
   "outputs": [
    {
     "data": {
      "text/plain": [
       "array([[(array([[723671, 703186, 711677, ..., 720620, 723893, 713846]]), array([[2009, 1964, 2008, ..., 2013, 2011, 2008]], dtype=uint16), array([[array(['17/10000217_1981-05-05_2009.jpg'], dtype='<U31'),\n",
       "        array(['48/10000548_1925-04-04_1964.jpg'], dtype='<U31'),\n",
       "        array(['12/100012_1948-07-03_2008.jpg'], dtype='<U29'), ...,\n",
       "        array(['09/9998109_1972-12-27_2013.jpg'], dtype='<U30'),\n",
       "        array(['00/9999400_1981-12-13_2011.jpg'], dtype='<U30'),\n",
       "        array(['80/999980_1954-06-11_2008.jpg'], dtype='<U29')]],\n",
       "      dtype=object), array([[1., 1., 1., ..., 1., 1., 0.]]), array([[array(['Sami Jauhojärvi'], dtype='<U15'),\n",
       "        array(['Dettmar Cramer'], dtype='<U14'),\n",
       "        array(['Marc Okrand'], dtype='<U11'), ...,\n",
       "        array(['Michael Wiesinger'], dtype='<U17'),\n",
       "        array(['Johann Grugger'], dtype='<U14'),\n",
       "        array(['Greta Van Susteren'], dtype='<U18')]], dtype=object), array([[array([[111.29109473, 111.29109473, 252.66993082, 252.66993082]]),\n",
       "        array([[252.4833023 , 126.68165115, 354.53192596, 228.73027481]]),\n",
       "        array([[113.52, 169.84, 366.08, 422.4 ]]), ...,\n",
       "        array([[169.88839786,  74.31669472, 235.2534231 , 139.68171997]]),\n",
       "        array([[1, 1, 1, 1]], dtype=uint8),\n",
       "        array([[ 92.72633235,  62.0435549 , 230.12083087, 199.43805342]])]],\n",
       "      dtype=object), array([[4.30096239, 2.6456395 , 4.32932883, ..., 3.49430317,       -inf,\n",
       "        5.48691655]]), array([[       nan, 1.94924791,        nan, ...,        nan,        nan,\n",
       "               nan]]))]],\n",
       "      dtype=[('dob', 'O'), ('photo_taken', 'O'), ('full_path', 'O'), ('gender', 'O'), ('name', 'O'), ('face_location', 'O'), ('face_score', 'O'), ('second_face_score', 'O')])"
      ]
     },
     "execution_count": 32,
     "metadata": {},
     "output_type": "execute_result"
    }
   ],
   "source": [
    "wiki_annot['wiki']"
   ]
  },
  {
   "cell_type": "code",
   "execution_count": 33,
   "metadata": {},
   "outputs": [
    {
     "data": {
      "text/plain": [
       "[723671,\n",
       " 2009,\n",
       " array(['17/10000217_1981-05-05_2009.jpg'], dtype='<U31'),\n",
       " 1.0,\n",
       " array(['Sami Jauhojärvi'], dtype='<U15'),\n",
       " array([[111.29109473, 111.29109473, 252.66993082, 252.66993082]]),\n",
       " 4.3009623883308095,\n",
       " nan]"
      ]
     },
     "execution_count": 33,
     "metadata": {},
     "output_type": "execute_result"
    }
   ],
   "source": [
    "[item.flat[0] for item in wiki_annot['wiki'][0][0]]\n"
   ]
  },
  {
   "cell_type": "code",
   "execution_count": 35,
   "metadata": {},
   "outputs": [
    {
     "data": {
      "text/plain": [
       "array([[(array([[723671, 703186, 711677, ..., 720620, 723893, 713846]]), array([[2009, 1964, 2008, ..., 2013, 2011, 2008]], dtype=uint16), array([[array(['17/10000217_1981-05-05_2009.jpg'], dtype='<U31'),\n",
       "        array(['48/10000548_1925-04-04_1964.jpg'], dtype='<U31'),\n",
       "        array(['12/100012_1948-07-03_2008.jpg'], dtype='<U29'), ...,\n",
       "        array(['09/9998109_1972-12-27_2013.jpg'], dtype='<U30'),\n",
       "        array(['00/9999400_1981-12-13_2011.jpg'], dtype='<U30'),\n",
       "        array(['80/999980_1954-06-11_2008.jpg'], dtype='<U29')]],\n",
       "      dtype=object), array([[1., 1., 1., ..., 1., 1., 0.]]), array([[array(['Sami Jauhojärvi'], dtype='<U15'),\n",
       "        array(['Dettmar Cramer'], dtype='<U14'),\n",
       "        array(['Marc Okrand'], dtype='<U11'), ...,\n",
       "        array(['Michael Wiesinger'], dtype='<U17'),\n",
       "        array(['Johann Grugger'], dtype='<U14'),\n",
       "        array(['Greta Van Susteren'], dtype='<U18')]], dtype=object), array([[array([[111.29109473, 111.29109473, 252.66993082, 252.66993082]]),\n",
       "        array([[252.4833023 , 126.68165115, 354.53192596, 228.73027481]]),\n",
       "        array([[113.52, 169.84, 366.08, 422.4 ]]), ...,\n",
       "        array([[169.88839786,  74.31669472, 235.2534231 , 139.68171997]]),\n",
       "        array([[1, 1, 1, 1]], dtype=uint8),\n",
       "        array([[ 92.72633235,  62.0435549 , 230.12083087, 199.43805342]])]],\n",
       "      dtype=object), array([[4.30096239, 2.6456395 , 4.32932883, ..., 3.49430317,       -inf,\n",
       "        5.48691655]]), array([[       nan, 1.94924791,        nan, ...,        nan,        nan,\n",
       "               nan]]))]],\n",
       "      dtype=[('dob', 'O'), ('photo_taken', 'O'), ('full_path', 'O'), ('gender', 'O'), ('name', 'O'), ('face_location', 'O'), ('face_score', 'O'), ('second_face_score', 'O')])"
      ]
     },
     "execution_count": 35,
     "metadata": {},
     "output_type": "execute_result"
    }
   ],
   "source": [
    "wiki_annot['wiki']"
   ]
  },
  {
   "cell_type": "code",
   "execution_count": 41,
   "metadata": {},
   "outputs": [
    {
     "data": {
      "text/plain": [
       "numpy.dtype"
      ]
     },
     "execution_count": 41,
     "metadata": {},
     "output_type": "execute_result"
    }
   ],
   "source": [
    "type(wiki_annot['wiki'].dtype)"
   ]
  },
  {
   "cell_type": "code",
   "execution_count": 47,
   "metadata": {},
   "outputs": [
    {
     "data": {
      "text/plain": [
       "['dob',\n",
       " 'photo_taken',\n",
       " 'full_path',\n",
       " 'gender',\n",
       " 'name',\n",
       " 'face_location',\n",
       " 'face_score',\n",
       " 'second_face_score']"
      ]
     },
     "execution_count": 47,
     "metadata": {},
     "output_type": "execute_result"
    }
   ],
   "source": [
    "columns = list(wiki_annot['wiki'].dtype.names)\n"
   ]
  },
  {
   "cell_type": "code",
   "execution_count": 55,
   "metadata": {},
   "outputs": [
    {
     "ename": "NameError",
     "evalue": "name 'item' is not defined",
     "output_type": "error",
     "traceback": [
      "\u001b[1;31m---------------------------------------------------------------------------\u001b[0m",
      "\u001b[1;31mNameError\u001b[0m                                 Traceback (most recent call last)",
      "\u001b[1;32m<ipython-input-55-20b2a000d868>\u001b[0m in \u001b[0;36m<module>\u001b[1;34m\u001b[0m\n\u001b[1;32m----> 1\u001b[1;33m \u001b[1;33m[\u001b[0m\u001b[0mx\u001b[0m \u001b[1;32mfor\u001b[0m \u001b[0mx\u001b[0m \u001b[1;32min\u001b[0m \u001b[0mitem\u001b[0m\u001b[1;33m.\u001b[0m\u001b[0mflat\u001b[0m \u001b[1;32mfor\u001b[0m \u001b[0mitem\u001b[0m \u001b[1;32min\u001b[0m \u001b[0mwiki_annot\u001b[0m\u001b[1;33m[\u001b[0m\u001b[1;34m'wiki'\u001b[0m\u001b[1;33m]\u001b[0m\u001b[1;33m[\u001b[0m\u001b[1;36m0\u001b[0m\u001b[1;33m]\u001b[0m\u001b[1;33m[\u001b[0m\u001b[1;36m0\u001b[0m\u001b[1;33m]\u001b[0m\u001b[1;33m]\u001b[0m\u001b[1;33m\u001b[0m\u001b[1;33m\u001b[0m\u001b[0m\n\u001b[0m",
      "\u001b[1;31mNameError\u001b[0m: name 'item' is not defined"
     ]
    }
   ],
   "source": [
    "[x for x in item.flat for item in wiki_annot['wiki'][0][0]]"
   ]
  },
  {
   "cell_type": "code",
   "execution_count": null,
   "metadata": {},
   "outputs": [],
   "source": []
  }
 ],
 "metadata": {
  "hide_input": false,
  "kernelspec": {
   "display_name": "Python 3",
   "language": "python",
   "name": "python3"
  },
  "language_info": {
   "codemirror_mode": {
    "name": "ipython",
    "version": 3
   },
   "file_extension": ".py",
   "mimetype": "text/x-python",
   "name": "python",
   "nbconvert_exporter": "python",
   "pygments_lexer": "ipython3",
   "version": "3.7.7"
  }
 },
 "nbformat": 4,
 "nbformat_minor": 4
}
