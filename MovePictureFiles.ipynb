{
 "cells": [
  {
   "cell_type": "code",
   "execution_count": 1,
   "metadata": {},
   "outputs": [],
   "source": [
    "from pathlib import Path\n",
    "import matplotlib.pyplot as plt\n",
    "import matplotlib.image as mpimg\n",
    "import os\n",
    "from IPython.display import clear_output\n",
    "import time\n",
    "import shutil\n",
    "\n",
    "# import itertools\n",
    "\n",
    "NUM_OF_SAMPLES = 10\n"
   ]
  },
  {
   "cell_type": "code",
   "execution_count": 2,
   "metadata": {},
   "outputs": [],
   "source": [
    "try:\n",
    "    from google.colab import drive\n",
    "    drive.mount('/content/gdrive')\n",
    "    LABS_DIR = Path ('/content/gdrive/My Drive/Labs')\n",
    "except:\n",
    "    LABS_DIR = Path ('C:/Labs/')\n",
    "\n",
    "DATA_DIR = LABS_DIR/'DataNoDuplicates' / 'train'\n",
    "OUTPUT_DIR = LABS_DIR/'DataWithGender'\n",
    "\n",
    "genders = ['M','F','U']"
   ]
  },
  {
   "cell_type": "code",
   "execution_count": 3,
   "metadata": {},
   "outputs": [],
   "source": [
    "def move_img_by_gender(img_path):\n",
    "    category = img_path.parent.name\n",
    "    while True:\n",
    "        gender_from_user=input(\"Please enter one-letter selection:\\n(M)ale/(F)emale/(U)ndecided:\").upper()\n",
    "        if gender_from_user in genders:\n",
    "            # Move the file etc.\n",
    "            dest= OUTPUT_DIR/f\"{category}_{gender_from_user}\"\n",
    "            if img_path.is_file():\n",
    "                shutil.move(str(img_path), str(dest))\n",
    "            return\n",
    "    "
   ]
  },
  {
   "cell_type": "code",
   "execution_count": 4,
   "metadata": {},
   "outputs": [],
   "source": [
    "emotions = ['Angry', 'Disgust', 'Fear', 'Happy', 'Neutral', 'Sad', 'Surprise']"
   ]
  },
  {
   "cell_type": "code",
   "execution_count": 5,
   "metadata": {
    "init_cell": true
   },
   "outputs": [],
   "source": [
    "# # Create the new categorized dir if not exist yet\n",
    "# for emotion in emotions:\n",
    "#     for gender in genders:\n",
    "#         gender_dir = OUTPUT_DIR / f'{emotion}_{gender}'\n",
    "#         os.makedirs(gender_dir,exist_ok=True)"
   ]
  },
  {
   "cell_type": "code",
   "execution_count": 6,
   "metadata": {},
   "outputs": [
    {
     "name": "stdout",
     "output_type": "stream",
     "text": [
      "\n",
      "To start, choose from the menu: Kernel-> Restart and Run All -> press the Red button labled \"Restart and Run All Cells\"\n",
      "\n",
      "In the page below you will be shown an image and be asked to tag it by perceived gender.\n",
      "Please think if it's Male, Female, or Undecided, and press M/F/U + Enter (lowercase or uppercase doesn't matter)\n",
      "Any other input will return to asking the question.\n",
      "After answering with one of the 3 options, you will continue to the next picture and question.\n",
      "If the page gets stuck/hung, or you finished and have some more free time,choose from the menu Kernel->Restart and run all.\n",
      "\n",
      "Don't worry, you can be very generous with 'U' and there are some very definite examples (e.g. babies, toys, etc.)\n",
      "Precision is more important then decisiveness.\n",
      "\n",
      "\n"
     ]
    }
   ],
   "source": [
    "print(\"\"\"\n",
    "To start, choose from the menu: Kernel-> Restart and Run All -> press the Red button labled \"Restart and Run All Cells\"\n",
    "\n",
    "In the page below you will be shown an image and be asked to tag it by perceived gender.\n",
    "Please think if it's Male, Female, or Undecided, and press M/F/U + Enter (lowercase or uppercase doesn't matter)\n",
    "Any other input will return to asking the question.\n",
    "After answering with one of the 3 options, you will continue to the next picture and question.\n",
    "If the page gets stuck/hung, or you finished and have some more free time,choose from the menu Kernel->Restart and run all.\n",
    "\n",
    "Don't worry, you can be very generous with 'U' and there are some very definite examples (e.g. babies, toys, etc.)\n",
    "Precision is more important then decisiveness.\n",
    "\n",
    "\"\"\")"
   ]
  },
  {
   "cell_type": "code",
   "execution_count": 7,
   "metadata": {},
   "outputs": [],
   "source": [
    "# C:\\Labs\\Data\\train\\train\\Angry\n",
    "for emotion in emotions:\n",
    "    emotion_path = DATA_DIR/emotion\n",
    "    for filename in os.listdir(emotion_path)[:NUM_OF_SAMPLES]:\n",
    "        img_path = emotion_path/filename\n",
    "        image = mpimg.imread(img_path)\n",
    "        plt.imshow(image)\n",
    "        plt.pause(0.001)  # pause a bit so that plots are updated\n",
    "        move_img_by_gender(img_path)\n",
    "        clear_output(wait=True)\n",
    "\n",
    "clear_output(wait=True)"
   ]
  },
  {
   "cell_type": "code",
   "execution_count": 8,
   "metadata": {},
   "outputs": [
    {
     "name": "stdout",
     "output_type": "stream",
     "text": [
      "You've finished one run, thank you!\n",
      "To start again, choose from the menu: Kernel-> Restart and Run All\n"
     ]
    }
   ],
   "source": [
    "print(\"You've finished one run, thank you!\\nTo start again, choose from the menu: Kernel-> Restart and Run All\")"
   ]
  },
  {
   "cell_type": "code",
   "execution_count": null,
   "metadata": {},
   "outputs": [],
   "source": []
  }
 ],
 "metadata": {
  "hide_input": true,
  "kernelspec": {
   "display_name": "Python 3",
   "language": "python",
   "name": "python3"
  },
  "language_info": {
   "codemirror_mode": {
    "name": "ipython",
    "version": 3
   },
   "file_extension": ".py",
   "mimetype": "text/x-python",
   "name": "python",
   "nbconvert_exporter": "python",
   "pygments_lexer": "ipython3",
   "version": "3.7.7"
  },
  "varInspector": {
   "cols": {
    "lenName": 16,
    "lenType": 16,
    "lenVar": 40
   },
   "kernels_config": {
    "python": {
     "delete_cmd_postfix": "",
     "delete_cmd_prefix": "del ",
     "library": "var_list.py",
     "varRefreshCmd": "print(var_dic_list())"
    },
    "r": {
     "delete_cmd_postfix": ") ",
     "delete_cmd_prefix": "rm(",
     "library": "var_list.r",
     "varRefreshCmd": "cat(var_dic_list()) "
    }
   },
   "types_to_exclude": [
    "module",
    "function",
    "builtin_function_or_method",
    "instance",
    "_Feature"
   ],
   "window_display": false
  }
 },
 "nbformat": 4,
 "nbformat_minor": 4
}
