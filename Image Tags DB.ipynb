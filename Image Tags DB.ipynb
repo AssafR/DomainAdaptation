{
 "cells": [
  {
   "cell_type": "code",
   "execution_count": 1,
   "metadata": {},
   "outputs": [],
   "source": [
    "import pandas as pd\n",
    "from pathlib import Path\n",
    "import os\n",
    "import collections"
   ]
  },
  {
   "cell_type": "code",
   "execution_count": 2,
   "metadata": {},
   "outputs": [],
   "source": [
    "rootPath = Path(\"C:\\Labs\")\n",
    "srcDir = rootPath / \"DataTraining\""
   ]
  },
  {
   "cell_type": "code",
   "execution_count": 3,
   "metadata": {},
   "outputs": [],
   "source": [
    "files_DB = rootPath / 'images_information.csv'\n",
    "classes = ['Angry', 'Disgust', 'Fear', 'Happy', 'Neutral', 'Sad', 'Surprise']\n",
    "# sexes = {'M':'Male','F':'Female','U':'Undecidable'}\n",
    "sexes_1 = ['Female', 'Male']\n",
    "sexes_2 = ['F', 'M']"
   ]
  },
  {
   "cell_type": "code",
   "execution_count": 4,
   "metadata": {},
   "outputs": [
    {
     "name": "stdout",
     "output_type": "stream",
     "text": [
      "Data shape: (7222, 3)\n"
     ]
    }
   ],
   "source": [
    "COLUMNS_NAMES = ['filename','emotion','sex']\n",
    "\n",
    "if not os.path.exists(files_DB):\n",
    "    df = pd.DataFrame(columns=COLUMNS_NAMES)\n",
    "    df.to_csv(files_DB,index=False)\n",
    "df = pd.read_csv(files_DB)\n",
    "print(\"Data shape:\",df.shape)"
   ]
  },
  {
   "cell_type": "markdown",
   "metadata": {},
   "source": [
    "### Reading all filenames and analyze uniqueness"
   ]
  },
  {
   "cell_type": "code",
   "execution_count": 5,
   "metadata": {},
   "outputs": [
    {
     "name": "stdout",
     "output_type": "stream",
     "text": [
      "Total number of files: 7222\n",
      "Number of images with count  1  = 7222\n"
     ]
    }
   ],
   "source": [
    "result = list(srcDir.rglob(\"*.png\"))\n",
    "\n",
    "# Observe total number of files and no duplicate file names\n",
    "cnt = collections.Counter([file.name for file in result])\n",
    "print(\"Total number of files:\",sum(cnt.values()))\n",
    "\n",
    "for count in set(cnt.values()):\n",
    "    images_with_cnt = [image for image,image_count in cnt.items() if image_count==count]\n",
    "    print(\"Number of images with count \",str(count),\" =\",len(images_with_cnt))\n"
   ]
  },
  {
   "cell_type": "code",
   "execution_count": 6,
   "metadata": {},
   "outputs": [],
   "source": [
    "def upsert_to_db(db,filename,emotion=None,sex=None):\n",
    "    # Create a line for the filename if doesn't exist\n",
    "    if db[db.filename==filename].any().any():\n",
    "        pass\n",
    "    else:\n",
    "        db = db.append({'filename':filename},ignore_index=True)\n",
    "\n",
    "    # Update the line\n",
    "    db.loc[db.filename==filename, 'emotion'] = emotion\n",
    "    db.loc[db.filename==filename, 'sex'] = sex\n",
    "    return db"
   ]
  },
  {
   "cell_type": "code",
   "execution_count": 7,
   "metadata": {},
   "outputs": [
    {
     "name": "stdout",
     "output_type": "stream",
     "text": [
      "Example for one file - full name and extracting features\n",
      "C:\\Labs\\DataTraining\\Female\\train\\Angry\\0027.png\n",
      "0027.png\n",
      "Angry\n",
      "Female\n"
     ]
    }
   ],
   "source": [
    "file = result[0]\n",
    "print(\"Example for one file - full name and extracting features\")\n",
    "print(file)\n",
    "print(file.name)\n",
    "print(file.parent.name)\n",
    "print(file.parent.parent.parent.name)"
   ]
  },
  {
   "cell_type": "code",
   "execution_count": 8,
   "metadata": {},
   "outputs": [],
   "source": [
    "## Test the upsert method\n",
    "# df = upsert_to_db(df,file.name,None,'Female')\n",
    "# df"
   ]
  },
  {
   "cell_type": "code",
   "execution_count": 9,
   "metadata": {},
   "outputs": [
    {
     "name": "stdout",
     "output_type": "stream",
     "text": [
      "(7222, 3)\n"
     ]
    },
    {
     "data": {
      "text/html": [
       "<div>\n",
       "<style scoped>\n",
       "    .dataframe tbody tr th:only-of-type {\n",
       "        vertical-align: middle;\n",
       "    }\n",
       "\n",
       "    .dataframe tbody tr th {\n",
       "        vertical-align: top;\n",
       "    }\n",
       "\n",
       "    .dataframe thead th {\n",
       "        text-align: right;\n",
       "    }\n",
       "</style>\n",
       "<table border=\"1\" class=\"dataframe\">\n",
       "  <thead>\n",
       "    <tr style=\"text-align: right;\">\n",
       "      <th></th>\n",
       "      <th>filename</th>\n",
       "      <th>emotion</th>\n",
       "      <th>sex</th>\n",
       "    </tr>\n",
       "  </thead>\n",
       "  <tbody>\n",
       "    <tr>\n",
       "      <th>0</th>\n",
       "      <td>0027.png</td>\n",
       "      <td>Angry</td>\n",
       "      <td>Female</td>\n",
       "    </tr>\n",
       "    <tr>\n",
       "      <th>1</th>\n",
       "      <td>0040.png</td>\n",
       "      <td>Angry</td>\n",
       "      <td>Female</td>\n",
       "    </tr>\n",
       "    <tr>\n",
       "      <th>2</th>\n",
       "      <td>0093.png</td>\n",
       "      <td>Angry</td>\n",
       "      <td>Female</td>\n",
       "    </tr>\n",
       "    <tr>\n",
       "      <th>3</th>\n",
       "      <td>0120.png</td>\n",
       "      <td>Angry</td>\n",
       "      <td>Female</td>\n",
       "    </tr>\n",
       "    <tr>\n",
       "      <th>4</th>\n",
       "      <td>0150.png</td>\n",
       "      <td>Angry</td>\n",
       "      <td>Female</td>\n",
       "    </tr>\n",
       "    <tr>\n",
       "      <th>...</th>\n",
       "      <td>...</td>\n",
       "      <td>...</td>\n",
       "      <td>...</td>\n",
       "    </tr>\n",
       "    <tr>\n",
       "      <th>7217</th>\n",
       "      <td>28382.png</td>\n",
       "      <td>Surprise</td>\n",
       "      <td>Male</td>\n",
       "    </tr>\n",
       "    <tr>\n",
       "      <th>7218</th>\n",
       "      <td>28557.png</td>\n",
       "      <td>Surprise</td>\n",
       "      <td>Male</td>\n",
       "    </tr>\n",
       "    <tr>\n",
       "      <th>7219</th>\n",
       "      <td>2949.png</td>\n",
       "      <td>Surprise</td>\n",
       "      <td>Male</td>\n",
       "    </tr>\n",
       "    <tr>\n",
       "      <th>7220</th>\n",
       "      <td>2963.png</td>\n",
       "      <td>Surprise</td>\n",
       "      <td>Male</td>\n",
       "    </tr>\n",
       "    <tr>\n",
       "      <th>7221</th>\n",
       "      <td>3223.png</td>\n",
       "      <td>Surprise</td>\n",
       "      <td>Male</td>\n",
       "    </tr>\n",
       "  </tbody>\n",
       "</table>\n",
       "<p>7222 rows × 3 columns</p>\n",
       "</div>"
      ],
      "text/plain": [
       "       filename   emotion     sex\n",
       "0      0027.png     Angry  Female\n",
       "1      0040.png     Angry  Female\n",
       "2      0093.png     Angry  Female\n",
       "3      0120.png     Angry  Female\n",
       "4      0150.png     Angry  Female\n",
       "...         ...       ...     ...\n",
       "7217  28382.png  Surprise    Male\n",
       "7218  28557.png  Surprise    Male\n",
       "7219   2949.png  Surprise    Male\n",
       "7220   2963.png  Surprise    Male\n",
       "7221   3223.png  Surprise    Male\n",
       "\n",
       "[7222 rows x 3 columns]"
      ]
     },
     "metadata": {},
     "output_type": "display_data"
    }
   ],
   "source": [
    "for image_file in result:\n",
    "    image_name = image_file.name\n",
    "    image_emotion = image_file.parent.name\n",
    "    image_sex = image_file.parent.parent.parent.name\n",
    "    df = upsert_to_db(df,image_name,image_emotion,image_sex)\n",
    "    \n",
    "print(df.shape)\n",
    "display(df)"
   ]
  },
  {
   "cell_type": "code",
   "execution_count": 10,
   "metadata": {},
   "outputs": [],
   "source": [
    "## Save\n",
    "df.to_csv(files_DB,index=False)"
   ]
  },
  {
   "cell_type": "code",
   "execution_count": null,
   "metadata": {},
   "outputs": [],
   "source": []
  },
  {
   "cell_type": "code",
   "execution_count": null,
   "metadata": {},
   "outputs": [],
   "source": []
  }
 ],
 "metadata": {
  "hide_input": false,
  "kernelspec": {
   "display_name": "Python 3",
   "language": "python",
   "name": "python3"
  },
  "language_info": {
   "codemirror_mode": {
    "name": "ipython",
    "version": 3
   },
   "file_extension": ".py",
   "mimetype": "text/x-python",
   "name": "python",
   "nbconvert_exporter": "python",
   "pygments_lexer": "ipython3",
   "version": "3.7.7"
  }
 },
 "nbformat": 4,
 "nbformat_minor": 4
}
